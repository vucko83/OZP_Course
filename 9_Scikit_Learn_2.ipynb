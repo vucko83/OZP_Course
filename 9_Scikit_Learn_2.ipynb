{
 "cells": [
  {
   "cell_type": "markdown",
   "metadata": {},
   "source": [
    "# Working with Dummy variables "
   ]
  },
  {
   "cell_type": "code",
   "execution_count": 25,
   "metadata": {
    "collapsed": true
   },
   "outputs": [],
   "source": [
    "import pandas as pd\n",
    "from sklearn.linear_model import LogisticRegression"
   ]
  },
  {
   "cell_type": "code",
   "execution_count": 26,
   "metadata": {
    "collapsed": false
   },
   "outputs": [],
   "source": [
    "train=pd.read_csv('~/Desktop/Titanic/train.csv')"
   ]
  },
  {
   "cell_type": "code",
   "execution_count": 27,
   "metadata": {
    "collapsed": false
   },
   "outputs": [
    {
     "data": {
      "text/plain": [
       "PassengerId      int64\n",
       "Survived         int64\n",
       "Pclass           int64\n",
       "Name            object\n",
       "Sex             object\n",
       "Age            float64\n",
       "SibSp            int64\n",
       "Parch            int64\n",
       "Ticket          object\n",
       "Fare           float64\n",
       "Cabin           object\n",
       "Embarked        object\n",
       "dtype: object"
      ]
     },
     "execution_count": 27,
     "metadata": {},
     "output_type": "execute_result"
    }
   ],
   "source": [
    "train.dtypes"
   ]
  },
  {
   "cell_type": "code",
   "execution_count": 28,
   "metadata": {
    "collapsed": false
   },
   "outputs": [
    {
     "data": {
      "text/html": [
       "<div>\n",
       "<table border=\"1\" class=\"dataframe\">\n",
       "  <thead>\n",
       "    <tr style=\"text-align: right;\">\n",
       "      <th></th>\n",
       "      <th>PassengerId</th>\n",
       "      <th>Survived</th>\n",
       "      <th>Pclass</th>\n",
       "      <th>Age</th>\n",
       "      <th>SibSp</th>\n",
       "      <th>Parch</th>\n",
       "      <th>Fare</th>\n",
       "    </tr>\n",
       "  </thead>\n",
       "  <tbody>\n",
       "    <tr>\n",
       "      <th>count</th>\n",
       "      <td>891.000000</td>\n",
       "      <td>891.000000</td>\n",
       "      <td>891.000000</td>\n",
       "      <td>714.000000</td>\n",
       "      <td>891.000000</td>\n",
       "      <td>891.000000</td>\n",
       "      <td>891.000000</td>\n",
       "    </tr>\n",
       "    <tr>\n",
       "      <th>mean</th>\n",
       "      <td>446.000000</td>\n",
       "      <td>0.383838</td>\n",
       "      <td>2.308642</td>\n",
       "      <td>29.699118</td>\n",
       "      <td>0.523008</td>\n",
       "      <td>0.381594</td>\n",
       "      <td>32.204208</td>\n",
       "    </tr>\n",
       "    <tr>\n",
       "      <th>std</th>\n",
       "      <td>257.353842</td>\n",
       "      <td>0.486592</td>\n",
       "      <td>0.836071</td>\n",
       "      <td>14.526497</td>\n",
       "      <td>1.102743</td>\n",
       "      <td>0.806057</td>\n",
       "      <td>49.693429</td>\n",
       "    </tr>\n",
       "    <tr>\n",
       "      <th>min</th>\n",
       "      <td>1.000000</td>\n",
       "      <td>0.000000</td>\n",
       "      <td>1.000000</td>\n",
       "      <td>0.420000</td>\n",
       "      <td>0.000000</td>\n",
       "      <td>0.000000</td>\n",
       "      <td>0.000000</td>\n",
       "    </tr>\n",
       "    <tr>\n",
       "      <th>25%</th>\n",
       "      <td>223.500000</td>\n",
       "      <td>0.000000</td>\n",
       "      <td>2.000000</td>\n",
       "      <td>20.125000</td>\n",
       "      <td>0.000000</td>\n",
       "      <td>0.000000</td>\n",
       "      <td>7.910400</td>\n",
       "    </tr>\n",
       "    <tr>\n",
       "      <th>50%</th>\n",
       "      <td>446.000000</td>\n",
       "      <td>0.000000</td>\n",
       "      <td>3.000000</td>\n",
       "      <td>28.000000</td>\n",
       "      <td>0.000000</td>\n",
       "      <td>0.000000</td>\n",
       "      <td>14.454200</td>\n",
       "    </tr>\n",
       "    <tr>\n",
       "      <th>75%</th>\n",
       "      <td>668.500000</td>\n",
       "      <td>1.000000</td>\n",
       "      <td>3.000000</td>\n",
       "      <td>38.000000</td>\n",
       "      <td>1.000000</td>\n",
       "      <td>0.000000</td>\n",
       "      <td>31.000000</td>\n",
       "    </tr>\n",
       "    <tr>\n",
       "      <th>max</th>\n",
       "      <td>891.000000</td>\n",
       "      <td>1.000000</td>\n",
       "      <td>3.000000</td>\n",
       "      <td>80.000000</td>\n",
       "      <td>8.000000</td>\n",
       "      <td>6.000000</td>\n",
       "      <td>512.329200</td>\n",
       "    </tr>\n",
       "  </tbody>\n",
       "</table>\n",
       "</div>"
      ],
      "text/plain": [
       "       PassengerId    Survived      Pclass         Age       SibSp  \\\n",
       "count   891.000000  891.000000  891.000000  714.000000  891.000000   \n",
       "mean    446.000000    0.383838    2.308642   29.699118    0.523008   \n",
       "std     257.353842    0.486592    0.836071   14.526497    1.102743   \n",
       "min       1.000000    0.000000    1.000000    0.420000    0.000000   \n",
       "25%     223.500000    0.000000    2.000000   20.125000    0.000000   \n",
       "50%     446.000000    0.000000    3.000000   28.000000    0.000000   \n",
       "75%     668.500000    1.000000    3.000000   38.000000    1.000000   \n",
       "max     891.000000    1.000000    3.000000   80.000000    8.000000   \n",
       "\n",
       "            Parch        Fare  \n",
       "count  891.000000  891.000000  \n",
       "mean     0.381594   32.204208  \n",
       "std      0.806057   49.693429  \n",
       "min      0.000000    0.000000  \n",
       "25%      0.000000    7.910400  \n",
       "50%      0.000000   14.454200  \n",
       "75%      0.000000   31.000000  \n",
       "max      6.000000  512.329200  "
      ]
     },
     "execution_count": 28,
     "metadata": {},
     "output_type": "execute_result"
    }
   ],
   "source": [
    "train.describe()"
   ]
  },
  {
   "cell_type": "markdown",
   "metadata": {},
   "source": [
    "### Describe categorical variables"
   ]
  },
  {
   "cell_type": "code",
   "execution_count": 29,
   "metadata": {
    "collapsed": true
   },
   "outputs": [],
   "source": [
    "categorical=train.select_dtypes(include=['object'])"
   ]
  },
  {
   "cell_type": "code",
   "execution_count": 8,
   "metadata": {
    "collapsed": false
   },
   "outputs": [
    {
     "data": {
      "text/html": [
       "<div>\n",
       "<table border=\"1\" class=\"dataframe\">\n",
       "  <thead>\n",
       "    <tr style=\"text-align: right;\">\n",
       "      <th></th>\n",
       "      <th>Name</th>\n",
       "      <th>Sex</th>\n",
       "      <th>Ticket</th>\n",
       "      <th>Cabin</th>\n",
       "      <th>Embarked</th>\n",
       "    </tr>\n",
       "  </thead>\n",
       "  <tbody>\n",
       "    <tr>\n",
       "      <th>count</th>\n",
       "      <td>891</td>\n",
       "      <td>891</td>\n",
       "      <td>891</td>\n",
       "      <td>204</td>\n",
       "      <td>889</td>\n",
       "    </tr>\n",
       "    <tr>\n",
       "      <th>unique</th>\n",
       "      <td>891</td>\n",
       "      <td>2</td>\n",
       "      <td>681</td>\n",
       "      <td>147</td>\n",
       "      <td>3</td>\n",
       "    </tr>\n",
       "    <tr>\n",
       "      <th>top</th>\n",
       "      <td>Cor, Mr. Liudevit</td>\n",
       "      <td>male</td>\n",
       "      <td>1601</td>\n",
       "      <td>G6</td>\n",
       "      <td>S</td>\n",
       "    </tr>\n",
       "    <tr>\n",
       "      <th>freq</th>\n",
       "      <td>1</td>\n",
       "      <td>577</td>\n",
       "      <td>7</td>\n",
       "      <td>4</td>\n",
       "      <td>644</td>\n",
       "    </tr>\n",
       "  </tbody>\n",
       "</table>\n",
       "</div>"
      ],
      "text/plain": [
       "                     Name   Sex Ticket Cabin Embarked\n",
       "count                 891   891    891   204      889\n",
       "unique                891     2    681   147        3\n",
       "top     Cor, Mr. Liudevit  male   1601    G6        S\n",
       "freq                    1   577      7     4      644"
      ]
     },
     "execution_count": 8,
     "metadata": {},
     "output_type": "execute_result"
    }
   ],
   "source": [
    "categorical.describe()"
   ]
  },
  {
   "cell_type": "markdown",
   "metadata": {},
   "source": [
    "### Check number of NaN values for attributes"
   ]
  },
  {
   "cell_type": "code",
   "execution_count": 30,
   "metadata": {
    "collapsed": false
   },
   "outputs": [
    {
     "data": {
      "text/plain": [
       "PassengerId      0\n",
       "Survived         0\n",
       "Pclass           0\n",
       "Name             0\n",
       "Sex              0\n",
       "Age            177\n",
       "SibSp            0\n",
       "Parch            0\n",
       "Ticket           0\n",
       "Fare             0\n",
       "Cabin          687\n",
       "Embarked         2\n",
       "dtype: int64"
      ]
     },
     "execution_count": 30,
     "metadata": {},
     "output_type": "execute_result"
    }
   ],
   "source": [
    "train.isnull().sum()"
   ]
  },
  {
   "cell_type": "markdown",
   "metadata": {},
   "source": [
    "### Remove attributes like Ids or ones that have many NaNs"
   ]
  },
  {
   "cell_type": "code",
   "execution_count": 32,
   "metadata": {
    "collapsed": false
   },
   "outputs": [],
   "source": [
    "train1=train.drop(['PassengerId','Name', 'Cabin', 'Ticket'], axis=1)"
   ]
  },
  {
   "cell_type": "markdown",
   "metadata": {},
   "source": [
    "### Fill NaNs with mean for Age attribute"
   ]
  },
  {
   "cell_type": "code",
   "execution_count": 33,
   "metadata": {
    "collapsed": true
   },
   "outputs": [],
   "source": [
    "import numpy as np"
   ]
  },
  {
   "cell_type": "code",
   "execution_count": 34,
   "metadata": {
    "collapsed": true
   },
   "outputs": [],
   "source": [
    "mean_age=np.average(train1.Age.dropna())\n",
    "# this can also be done with train.Age.mean()"
   ]
  },
  {
   "cell_type": "code",
   "execution_count": 36,
   "metadata": {
    "collapsed": false
   },
   "outputs": [],
   "source": [
    "train1.Age.fillna(mean_age, inplace=True)"
   ]
  },
  {
   "cell_type": "code",
   "execution_count": 39,
   "metadata": {
    "collapsed": false
   },
   "outputs": [
    {
     "data": {
      "text/plain": [
       "Survived    0\n",
       "Pclass      0\n",
       "Sex         0\n",
       "Age         0\n",
       "SibSp       0\n",
       "Parch       0\n",
       "Fare        0\n",
       "Embarked    2\n",
       "dtype: int64"
      ]
     },
     "execution_count": 39,
     "metadata": {},
     "output_type": "execute_result"
    }
   ],
   "source": [
    "train1.isnull().sum()"
   ]
  },
  {
   "cell_type": "code",
   "execution_count": 40,
   "metadata": {
    "collapsed": false
   },
   "outputs": [
    {
     "data": {
      "text/plain": [
       "array(['S', 'C', 'Q', nan], dtype=object)"
      ]
     },
     "execution_count": 40,
     "metadata": {},
     "output_type": "execute_result"
    }
   ],
   "source": [
    "categorical.Embarked.unique()"
   ]
  },
  {
   "cell_type": "markdown",
   "metadata": {},
   "source": [
    "### Create Dummy variables from Sex and Embarked"
   ]
  },
  {
   "cell_type": "code",
   "execution_count": 41,
   "metadata": {
    "collapsed": true
   },
   "outputs": [],
   "source": [
    "dummies=pd.get_dummies(train[['Sex', 'Embarked']])"
   ]
  },
  {
   "cell_type": "code",
   "execution_count": 42,
   "metadata": {
    "collapsed": false
   },
   "outputs": [
    {
     "data": {
      "text/html": [
       "<div>\n",
       "<table border=\"1\" class=\"dataframe\">\n",
       "  <thead>\n",
       "    <tr style=\"text-align: right;\">\n",
       "      <th></th>\n",
       "      <th>Sex_female</th>\n",
       "      <th>Sex_male</th>\n",
       "      <th>Embarked_C</th>\n",
       "      <th>Embarked_Q</th>\n",
       "      <th>Embarked_S</th>\n",
       "    </tr>\n",
       "  </thead>\n",
       "  <tbody>\n",
       "    <tr>\n",
       "      <th>0</th>\n",
       "      <td>0</td>\n",
       "      <td>1</td>\n",
       "      <td>0</td>\n",
       "      <td>0</td>\n",
       "      <td>1</td>\n",
       "    </tr>\n",
       "    <tr>\n",
       "      <th>1</th>\n",
       "      <td>1</td>\n",
       "      <td>0</td>\n",
       "      <td>1</td>\n",
       "      <td>0</td>\n",
       "      <td>0</td>\n",
       "    </tr>\n",
       "  </tbody>\n",
       "</table>\n",
       "</div>"
      ],
      "text/plain": [
       "   Sex_female  Sex_male  Embarked_C  Embarked_Q  Embarked_S\n",
       "0           0         1           0           0           1\n",
       "1           1         0           1           0           0"
      ]
     },
     "execution_count": 42,
     "metadata": {},
     "output_type": "execute_result"
    }
   ],
   "source": [
    "dummies.head(2)"
   ]
  },
  {
   "cell_type": "markdown",
   "metadata": {},
   "source": [
    "### Drop original variables"
   ]
  },
  {
   "cell_type": "code",
   "execution_count": 45,
   "metadata": {
    "collapsed": false
   },
   "outputs": [],
   "source": [
    "train1.drop(labels=['Sex', 'Embarked'], axis=1, inplace=True)"
   ]
  },
  {
   "cell_type": "code",
   "execution_count": 46,
   "metadata": {
    "collapsed": false
   },
   "outputs": [
    {
     "data": {
      "text/html": [
       "<div>\n",
       "<table border=\"1\" class=\"dataframe\">\n",
       "  <thead>\n",
       "    <tr style=\"text-align: right;\">\n",
       "      <th></th>\n",
       "      <th>Survived</th>\n",
       "      <th>Pclass</th>\n",
       "      <th>Age</th>\n",
       "      <th>SibSp</th>\n",
       "      <th>Parch</th>\n",
       "      <th>Fare</th>\n",
       "    </tr>\n",
       "  </thead>\n",
       "  <tbody>\n",
       "    <tr>\n",
       "      <th>0</th>\n",
       "      <td>0</td>\n",
       "      <td>3</td>\n",
       "      <td>22</td>\n",
       "      <td>1</td>\n",
       "      <td>0</td>\n",
       "      <td>7.2500</td>\n",
       "    </tr>\n",
       "    <tr>\n",
       "      <th>1</th>\n",
       "      <td>1</td>\n",
       "      <td>1</td>\n",
       "      <td>38</td>\n",
       "      <td>1</td>\n",
       "      <td>0</td>\n",
       "      <td>71.2833</td>\n",
       "    </tr>\n",
       "  </tbody>\n",
       "</table>\n",
       "</div>"
      ],
      "text/plain": [
       "   Survived  Pclass  Age  SibSp  Parch     Fare\n",
       "0         0       3   22      1      0   7.2500\n",
       "1         1       1   38      1      0  71.2833"
      ]
     },
     "execution_count": 46,
     "metadata": {},
     "output_type": "execute_result"
    }
   ],
   "source": [
    "train1.head(2)"
   ]
  },
  {
   "cell_type": "markdown",
   "metadata": {},
   "source": [
    "### Join Numerical and Dummy variables"
   ]
  },
  {
   "cell_type": "code",
   "execution_count": 47,
   "metadata": {
    "collapsed": true
   },
   "outputs": [],
   "source": [
    "prepared=train1.join(dummies)"
   ]
  },
  {
   "cell_type": "code",
   "execution_count": 49,
   "metadata": {
    "collapsed": false
   },
   "outputs": [
    {
     "data": {
      "text/html": [
       "<div>\n",
       "<table border=\"1\" class=\"dataframe\">\n",
       "  <thead>\n",
       "    <tr style=\"text-align: right;\">\n",
       "      <th></th>\n",
       "      <th>Survived</th>\n",
       "      <th>Pclass</th>\n",
       "      <th>Age</th>\n",
       "      <th>SibSp</th>\n",
       "      <th>Parch</th>\n",
       "      <th>Fare</th>\n",
       "      <th>Sex_female</th>\n",
       "      <th>Sex_male</th>\n",
       "      <th>Embarked_C</th>\n",
       "      <th>Embarked_Q</th>\n",
       "      <th>Embarked_S</th>\n",
       "    </tr>\n",
       "  </thead>\n",
       "  <tbody>\n",
       "    <tr>\n",
       "      <th>0</th>\n",
       "      <td>0</td>\n",
       "      <td>3</td>\n",
       "      <td>22</td>\n",
       "      <td>1</td>\n",
       "      <td>0</td>\n",
       "      <td>7.2500</td>\n",
       "      <td>0</td>\n",
       "      <td>1</td>\n",
       "      <td>0</td>\n",
       "      <td>0</td>\n",
       "      <td>1</td>\n",
       "    </tr>\n",
       "    <tr>\n",
       "      <th>1</th>\n",
       "      <td>1</td>\n",
       "      <td>1</td>\n",
       "      <td>38</td>\n",
       "      <td>1</td>\n",
       "      <td>0</td>\n",
       "      <td>71.2833</td>\n",
       "      <td>1</td>\n",
       "      <td>0</td>\n",
       "      <td>1</td>\n",
       "      <td>0</td>\n",
       "      <td>0</td>\n",
       "    </tr>\n",
       "  </tbody>\n",
       "</table>\n",
       "</div>"
      ],
      "text/plain": [
       "   Survived  Pclass  Age  SibSp  Parch     Fare  Sex_female  Sex_male  \\\n",
       "0         0       3   22      1      0   7.2500           0         1   \n",
       "1         1       1   38      1      0  71.2833           1         0   \n",
       "\n",
       "   Embarked_C  Embarked_Q  Embarked_S  \n",
       "0           0           0           1  \n",
       "1           1           0           0  "
      ]
     },
     "execution_count": 49,
     "metadata": {},
     "output_type": "execute_result"
    }
   ],
   "source": [
    "prepared.head(2)"
   ]
  },
  {
   "cell_type": "markdown",
   "metadata": {},
   "source": [
    "### Split Predictors and Label"
   ]
  },
  {
   "cell_type": "code",
   "execution_count": 52,
   "metadata": {
    "collapsed": true
   },
   "outputs": [],
   "source": [
    "y=prepared.Survived"
   ]
  },
  {
   "cell_type": "code",
   "execution_count": 56,
   "metadata": {
    "collapsed": true
   },
   "outputs": [],
   "source": [
    "X=prepared.drop('Survived', axis=1)"
   ]
  },
  {
   "cell_type": "markdown",
   "metadata": {},
   "source": [
    "### Split on training and test"
   ]
  },
  {
   "cell_type": "code",
   "execution_count": 57,
   "metadata": {
    "collapsed": true
   },
   "outputs": [],
   "source": [
    "from sklearn.model_selection import train_test_split"
   ]
  },
  {
   "cell_type": "code",
   "execution_count": 58,
   "metadata": {
    "collapsed": true
   },
   "outputs": [],
   "source": [
    "X_train, X_test, y_train, y_test = train_test_splittest_split(X,y, test_size=0.3, random_state=100)"
   ]
  },
  {
   "cell_type": "code",
   "execution_count": 60,
   "metadata": {
    "collapsed": false
   },
   "outputs": [],
   "source": [
    "from sklearn.ensemble import RandomForestClassifier"
   ]
  },
  {
   "cell_type": "code",
   "execution_count": 79,
   "metadata": {
    "collapsed": true
   },
   "outputs": [],
   "source": [
    "RF=RandomForestClassifier(n_estimators=50)"
   ]
  },
  {
   "cell_type": "code",
   "execution_count": 80,
   "metadata": {
    "collapsed": false
   },
   "outputs": [],
   "source": [
    "rf_model=RF.fit(X_train, y_train)"
   ]
  },
  {
   "cell_type": "code",
   "execution_count": 117,
   "metadata": {
    "collapsed": false
   },
   "outputs": [
    {
     "data": {
      "text/plain": [
       "array([[ 0.2       ,  0.8       ],\n",
       "       [ 0.56      ,  0.44      ],\n",
       "       [ 0.98      ,  0.02      ],\n",
       "       [ 0.02      ,  0.98      ],\n",
       "       [ 0.95      ,  0.05      ],\n",
       "       [ 0.82      ,  0.18      ],\n",
       "       [ 0.96      ,  0.04      ],\n",
       "       [ 0.98      ,  0.02      ],\n",
       "       [ 0.02      ,  0.98      ],\n",
       "       [ 0.96      ,  0.04      ],\n",
       "       [ 0.02      ,  0.98      ],\n",
       "       [ 1.        ,  0.        ],\n",
       "       [ 1.        ,  0.        ],\n",
       "       [ 0.82      ,  0.18      ],\n",
       "       [ 0.52      ,  0.48      ],\n",
       "       [ 0.94      ,  0.06      ],\n",
       "       [ 0.06      ,  0.94      ],\n",
       "       [ 0.11      ,  0.89      ],\n",
       "       [ 0.04      ,  0.96      ],\n",
       "       [ 1.        ,  0.        ],\n",
       "       [ 1.        ,  0.        ],\n",
       "       [ 0.        ,  1.        ],\n",
       "       [ 0.2       ,  0.8       ],\n",
       "       [ 0.14      ,  0.86      ],\n",
       "       [ 0.92      ,  0.08      ],\n",
       "       [ 1.        ,  0.        ],\n",
       "       [ 0.02      ,  0.98      ],\n",
       "       [ 0.94      ,  0.06      ],\n",
       "       [ 0.99      ,  0.01      ],\n",
       "       [ 0.92      ,  0.08      ],\n",
       "       [ 0.98      ,  0.02      ],\n",
       "       [ 0.04      ,  0.96      ],\n",
       "       [ 0.43      ,  0.57      ],\n",
       "       [ 0.26333333,  0.73666667],\n",
       "       [ 0.        ,  1.        ],\n",
       "       [ 0.70333333,  0.29666667],\n",
       "       [ 0.        ,  1.        ],\n",
       "       [ 0.02      ,  0.98      ],\n",
       "       [ 0.02      ,  0.98      ],\n",
       "       [ 0.98      ,  0.02      ],\n",
       "       [ 0.88      ,  0.12      ],\n",
       "       [ 0.        ,  1.        ],\n",
       "       [ 0.83      ,  0.17      ],\n",
       "       [ 0.28      ,  0.72      ],\n",
       "       [ 0.98      ,  0.02      ],\n",
       "       [ 0.2       ,  0.8       ],\n",
       "       [ 0.97      ,  0.03      ],\n",
       "       [ 0.        ,  1.        ],\n",
       "       [ 0.96      ,  0.04      ],\n",
       "       [ 0.        ,  1.        ],\n",
       "       [ 0.98      ,  0.02      ],\n",
       "       [ 0.96      ,  0.04      ],\n",
       "       [ 0.88      ,  0.12      ],\n",
       "       [ 1.        ,  0.        ],\n",
       "       [ 0.70333333,  0.29666667],\n",
       "       [ 0.88      ,  0.12      ],\n",
       "       [ 0.96      ,  0.04      ],\n",
       "       [ 0.7       ,  0.3       ],\n",
       "       [ 0.86      ,  0.14      ],\n",
       "       [ 1.        ,  0.        ],\n",
       "       [ 0.98      ,  0.02      ],\n",
       "       [ 0.5       ,  0.5       ],\n",
       "       [ 1.        ,  0.        ],\n",
       "       [ 1.        ,  0.        ],\n",
       "       [ 0.26333333,  0.73666667],\n",
       "       [ 0.2       ,  0.8       ],\n",
       "       [ 1.        ,  0.        ],\n",
       "       [ 0.16      ,  0.84      ],\n",
       "       [ 0.06      ,  0.94      ],\n",
       "       [ 0.99      ,  0.01      ],\n",
       "       [ 0.82      ,  0.18      ],\n",
       "       [ 0.96      ,  0.04      ],\n",
       "       [ 0.77333333,  0.22666667],\n",
       "       [ 0.        ,  1.        ],\n",
       "       [ 0.96      ,  0.04      ],\n",
       "       [ 0.68      ,  0.32      ],\n",
       "       [ 0.98      ,  0.02      ],\n",
       "       [ 0.78285714,  0.21714286],\n",
       "       [ 1.        ,  0.        ],\n",
       "       [ 1.        ,  0.        ],\n",
       "       [ 0.78      ,  0.22      ],\n",
       "       [ 0.98      ,  0.02      ],\n",
       "       [ 0.08      ,  0.92      ],\n",
       "       [ 0.        ,  1.        ],\n",
       "       [ 0.        ,  1.        ],\n",
       "       [ 0.95333333,  0.04666667],\n",
       "       [ 0.92      ,  0.08      ],\n",
       "       [ 0.        ,  1.        ],\n",
       "       [ 1.        ,  0.        ],\n",
       "       [ 0.7       ,  0.3       ],\n",
       "       [ 0.12      ,  0.88      ],\n",
       "       [ 0.3       ,  0.7       ],\n",
       "       [ 1.        ,  0.        ],\n",
       "       [ 1.        ,  0.        ],\n",
       "       [ 0.04      ,  0.96      ],\n",
       "       [ 0.82      ,  0.18      ],\n",
       "       [ 0.24      ,  0.76      ],\n",
       "       [ 0.02      ,  0.98      ],\n",
       "       [ 1.        ,  0.        ],\n",
       "       [ 0.86      ,  0.14      ],\n",
       "       [ 1.        ,  0.        ],\n",
       "       [ 1.        ,  0.        ],\n",
       "       [ 0.96      ,  0.04      ],\n",
       "       [ 0.        ,  1.        ],\n",
       "       [ 0.77333333,  0.22666667],\n",
       "       [ 0.2       ,  0.8       ],\n",
       "       [ 0.97      ,  0.03      ],\n",
       "       [ 0.        ,  1.        ],\n",
       "       [ 0.42      ,  0.58      ],\n",
       "       [ 0.48      ,  0.52      ],\n",
       "       [ 0.95      ,  0.05      ],\n",
       "       [ 0.98      ,  0.02      ],\n",
       "       [ 0.32      ,  0.68      ],\n",
       "       [ 0.12      ,  0.88      ],\n",
       "       [ 0.58      ,  0.42      ],\n",
       "       [ 1.        ,  0.        ],\n",
       "       [ 0.98      ,  0.02      ],\n",
       "       [ 0.88      ,  0.12      ],\n",
       "       [ 1.        ,  0.        ],\n",
       "       [ 0.46      ,  0.54      ],\n",
       "       [ 0.92      ,  0.08      ],\n",
       "       [ 0.94      ,  0.06      ],\n",
       "       [ 0.02      ,  0.98      ],\n",
       "       [ 0.34      ,  0.66      ],\n",
       "       [ 1.        ,  0.        ],\n",
       "       [ 0.        ,  1.        ],\n",
       "       [ 0.95      ,  0.05      ],\n",
       "       [ 1.        ,  0.        ],\n",
       "       [ 0.        ,  1.        ],\n",
       "       [ 0.9       ,  0.1       ],\n",
       "       [ 0.56      ,  0.44      ],\n",
       "       [ 0.72      ,  0.28      ],\n",
       "       [ 0.94      ,  0.06      ],\n",
       "       [ 0.06      ,  0.94      ],\n",
       "       [ 0.58      ,  0.42      ],\n",
       "       [ 0.38      ,  0.62      ],\n",
       "       [ 0.96      ,  0.04      ],\n",
       "       [ 0.94      ,  0.06      ],\n",
       "       [ 0.02      ,  0.98      ],\n",
       "       [ 0.775     ,  0.225     ],\n",
       "       [ 0.22      ,  0.78      ],\n",
       "       [ 0.56      ,  0.44      ],\n",
       "       [ 0.61266667,  0.38733333],\n",
       "       [ 0.52266667,  0.47733333],\n",
       "       [ 1.        ,  0.        ],\n",
       "       [ 0.82      ,  0.18      ],\n",
       "       [ 0.        ,  1.        ],\n",
       "       [ 0.        ,  1.        ],\n",
       "       [ 0.76      ,  0.24      ],\n",
       "       [ 0.36      ,  0.64      ],\n",
       "       [ 0.26      ,  0.74      ],\n",
       "       [ 0.62      ,  0.38      ],\n",
       "       [ 0.98      ,  0.02      ],\n",
       "       [ 0.04      ,  0.96      ],\n",
       "       [ 0.72      ,  0.28      ],\n",
       "       [ 0.        ,  1.        ],\n",
       "       [ 0.98      ,  0.02      ],\n",
       "       [ 0.5       ,  0.5       ],\n",
       "       [ 0.74      ,  0.26      ],\n",
       "       [ 0.95      ,  0.05      ],\n",
       "       [ 0.22      ,  0.78      ],\n",
       "       [ 0.3       ,  0.7       ],\n",
       "       [ 1.        ,  0.        ],\n",
       "       [ 1.        ,  0.        ],\n",
       "       [ 0.        ,  1.        ],\n",
       "       [ 0.78285714,  0.21714286],\n",
       "       [ 0.        ,  1.        ],\n",
       "       [ 0.15      ,  0.85      ],\n",
       "       [ 0.26333333,  0.73666667],\n",
       "       [ 0.06      ,  0.94      ],\n",
       "       [ 0.83666667,  0.16333333],\n",
       "       [ 0.16      ,  0.84      ],\n",
       "       [ 0.9       ,  0.1       ],\n",
       "       [ 0.22      ,  0.78      ],\n",
       "       [ 0.03833333,  0.96166667],\n",
       "       [ 0.18      ,  0.82      ],\n",
       "       [ 0.965     ,  0.035     ],\n",
       "       [ 0.96      ,  0.04      ],\n",
       "       [ 0.12      ,  0.88      ],\n",
       "       [ 1.        ,  0.        ],\n",
       "       [ 0.96      ,  0.04      ],\n",
       "       [ 0.94      ,  0.06      ],\n",
       "       [ 0.06      ,  0.94      ],\n",
       "       [ 0.9       ,  0.1       ],\n",
       "       [ 0.26      ,  0.74      ],\n",
       "       [ 0.7       ,  0.3       ],\n",
       "       [ 0.68      ,  0.32      ],\n",
       "       [ 0.77166667,  0.22833333],\n",
       "       [ 0.22      ,  0.78      ],\n",
       "       [ 0.        ,  1.        ],\n",
       "       [ 0.02      ,  0.98      ],\n",
       "       [ 0.87333333,  0.12666667],\n",
       "       [ 0.1       ,  0.9       ],\n",
       "       [ 1.        ,  0.        ],\n",
       "       [ 0.99333333,  0.00666667],\n",
       "       [ 0.56      ,  0.44      ],\n",
       "       [ 0.74      ,  0.26      ],\n",
       "       [ 1.        ,  0.        ],\n",
       "       [ 0.08      ,  0.92      ],\n",
       "       [ 0.42      ,  0.58      ],\n",
       "       [ 0.08      ,  0.92      ],\n",
       "       [ 0.96      ,  0.04      ],\n",
       "       [ 0.46      ,  0.54      ],\n",
       "       [ 0.11      ,  0.89      ],\n",
       "       [ 0.6       ,  0.4       ],\n",
       "       [ 0.84      ,  0.16      ],\n",
       "       [ 1.        ,  0.        ],\n",
       "       [ 0.92      ,  0.08      ],\n",
       "       [ 0.32      ,  0.68      ],\n",
       "       [ 0.08      ,  0.92      ],\n",
       "       [ 0.4       ,  0.6       ],\n",
       "       [ 0.64      ,  0.36      ],\n",
       "       [ 0.72      ,  0.28      ],\n",
       "       [ 0.26      ,  0.74      ],\n",
       "       [ 0.98      ,  0.02      ],\n",
       "       [ 0.96      ,  0.04      ],\n",
       "       [ 0.08      ,  0.92      ],\n",
       "       [ 0.02      ,  0.98      ],\n",
       "       [ 0.76      ,  0.24      ],\n",
       "       [ 0.98      ,  0.02      ],\n",
       "       [ 1.        ,  0.        ],\n",
       "       [ 0.1       ,  0.9       ],\n",
       "       [ 0.2       ,  0.8       ],\n",
       "       [ 1.        ,  0.        ],\n",
       "       [ 0.1       ,  0.9       ],\n",
       "       [ 0.78      ,  0.22      ],\n",
       "       [ 0.9       ,  0.1       ],\n",
       "       [ 0.44      ,  0.56      ],\n",
       "       [ 0.54      ,  0.46      ],\n",
       "       [ 0.84      ,  0.16      ],\n",
       "       [ 0.08      ,  0.92      ],\n",
       "       [ 1.        ,  0.        ],\n",
       "       [ 0.98      ,  0.02      ],\n",
       "       [ 0.        ,  1.        ],\n",
       "       [ 1.        ,  0.        ],\n",
       "       [ 0.84      ,  0.16      ],\n",
       "       [ 0.36      ,  0.64      ],\n",
       "       [ 0.8       ,  0.2       ],\n",
       "       [ 0.98      ,  0.02      ],\n",
       "       [ 0.6       ,  0.4       ],\n",
       "       [ 0.98      ,  0.02      ],\n",
       "       [ 0.32      ,  0.68      ],\n",
       "       [ 0.66      ,  0.34      ],\n",
       "       [ 0.7       ,  0.3       ],\n",
       "       [ 0.7       ,  0.3       ],\n",
       "       [ 0.90322222,  0.09677778],\n",
       "       [ 1.        ,  0.        ],\n",
       "       [ 1.        ,  0.        ],\n",
       "       [ 0.98      ,  0.02      ],\n",
       "       [ 0.92333333,  0.07666667],\n",
       "       [ 0.68      ,  0.32      ],\n",
       "       [ 0.1       ,  0.9       ],\n",
       "       [ 0.98      ,  0.02      ],\n",
       "       [ 0.14      ,  0.86      ],\n",
       "       [ 0.44      ,  0.56      ],\n",
       "       [ 0.08      ,  0.92      ],\n",
       "       [ 0.98      ,  0.02      ],\n",
       "       [ 0.94      ,  0.06      ],\n",
       "       [ 1.        ,  0.        ],\n",
       "       [ 0.94      ,  0.06      ],\n",
       "       [ 0.        ,  1.        ],\n",
       "       [ 0.36      ,  0.64      ],\n",
       "       [ 0.42      ,  0.58      ],\n",
       "       [ 0.04      ,  0.96      ],\n",
       "       [ 0.02      ,  0.98      ],\n",
       "       [ 0.98      ,  0.02      ],\n",
       "       [ 0.14      ,  0.86      ],\n",
       "       [ 1.        ,  0.        ]])"
      ]
     },
     "execution_count": 117,
     "metadata": {},
     "output_type": "execute_result"
    }
   ],
   "source": [
    "rf_model.predict_proba(X_test)"
   ]
  },
  {
   "cell_type": "markdown",
   "metadata": {},
   "source": [
    "### Make predictions on both train and test subsets"
   ]
  },
  {
   "cell_type": "code",
   "execution_count": 81,
   "metadata": {
    "collapsed": false
   },
   "outputs": [],
   "source": [
    "predictions_test= rf_model.predict(X_test)\n",
    "predictions_train=rf_model.predict(X_train)"
   ]
  },
  {
   "cell_type": "code",
   "execution_count": 98,
   "metadata": {
    "collapsed": false
   },
   "outputs": [],
   "source": [
    "path=rf_model.decision_path(X_test)"
   ]
  },
  {
   "cell_type": "code",
   "execution_count": 92,
   "metadata": {
    "collapsed": false
   },
   "outputs": [],
   "source": [
    "from sklearn.metrics import roc_auc_score\n",
    "from sklearn.metrics import roc_curve"
   ]
  },
  {
   "cell_type": "code",
   "execution_count": 88,
   "metadata": {
    "collapsed": false
   },
   "outputs": [
    {
     "data": {
      "text/plain": [
       "0.98757015516672175"
      ]
     },
     "execution_count": 88,
     "metadata": {},
     "output_type": "execute_result"
    }
   ],
   "source": [
    "roc_auc_score(y_train, predictions_train)"
   ]
  },
  {
   "cell_type": "code",
   "execution_count": 89,
   "metadata": {
    "collapsed": false
   },
   "outputs": [
    {
     "data": {
      "text/plain": [
       "0.79294328082626508"
      ]
     },
     "execution_count": 89,
     "metadata": {},
     "output_type": "execute_result"
    }
   ],
   "source": [
    "roc_auc_score(y_test, predictions_test)"
   ]
  },
  {
   "cell_type": "code",
   "execution_count": 126,
   "metadata": {
    "collapsed": true
   },
   "outputs": [],
   "source": [
    "probas=rf_model.predict_proba(X_test)[:,1]"
   ]
  },
  {
   "cell_type": "code",
   "execution_count": 125,
   "metadata": {
    "collapsed": false
   },
   "outputs": [],
   "source": [
    "fpr, tpr, thresholds = roc_curve(y_test, probas)"
   ]
  },
  {
   "cell_type": "code",
   "execution_count": 127,
   "metadata": {
    "collapsed": false
   },
   "outputs": [
    {
     "data": {
      "image/png": "[encoded data removed]",
      "text/plain": [
       "<matplotlib.figure.Figure at 0x11fca4dd8>"
      ]
     },
     "metadata": {},
     "output_type": "display_data"
    }
   ],
   "source": [
    "import matplotlib.pyplot as plt\n",
    "plt.style.use('ggplot')\n",
    "%matplotlib inline\n",
    "\n",
    "#y_predict_probabilities = model.predict_proba(X_test)[:,1]\n",
    "\n",
    "#fpr, tpr, _ = roc_curve(y_test, y_predict_probabilities)\n",
    "roc_auc = auc(fpr, tpr)\n",
    "\n",
    "plt.figure()\n",
    "plt.plot(fpr, tpr, color='darkorange',\n",
    "         lw=2, label='ROC curve (area = %0.2f)' % roc_auc)\n",
    "plt.plot([0, 1], [0, 1], color='navy', lw=2, linestyle='--')\n",
    "plt.xlim([0.0, 1.0])\n",
    "plt.ylim([0.0, 1.05])\n",
    "plt.xlabel('False Positive Rate')\n",
    "plt.ylabel('True Positive Rate')\n",
    "plt.title('ROC Curve')\n",
    "plt.legend(loc=\"lower right\")\n",
    "plt.show()"
   ]
  },
  {
   "cell_type": "markdown",
   "metadata": {},
   "source": [
    "# Cross validation (model selection)"
   ]
  },
  {
   "cell_type": "code",
   "execution_count": 128,
   "metadata": {
    "collapsed": true
   },
   "outputs": [],
   "source": [
    "from sklearn.model_selection import cross_val_score"
   ]
  },
  {
   "cell_type": "code",
   "execution_count": 139,
   "metadata": {
    "collapsed": false
   },
   "outputs": [],
   "source": [
    "scores = cross_val_score(RF, X_train, y_train, cv=5, scoring='roc_auc')"
   ]
  },
  {
   "cell_type": "code",
   "execution_count": 141,
   "metadata": {
    "collapsed": false
   },
   "outputs": [
    {
     "data": {
      "text/plain": [
       "0.85024787115443912"
      ]
     },
     "execution_count": 141,
     "metadata": {},
     "output_type": "execute_result"
    }
   ],
   "source": [
    "np.average(scores)"
   ]
  },
  {
   "cell_type": "code",
   "execution_count": 131,
   "metadata": {
    "collapsed": false
   },
   "outputs": [
    {
     "data": {
      "text/plain": [
       "RandomForestClassifier(bootstrap=True, class_weight=None, criterion='gini',\n",
       "            max_depth=None, max_features='auto', max_leaf_nodes=None,\n",
       "            min_impurity_decrease=0.0, min_impurity_split=None,\n",
       "            min_samples_leaf=1, min_samples_split=2,\n",
       "            min_weight_fraction_leaf=0.0, n_estimators=50, n_jobs=1,\n",
       "            oob_score=False, random_state=None, verbose=0,\n",
       "            warm_start=False)"
      ]
     },
     "execution_count": 131,
     "metadata": {},
     "output_type": "execute_result"
    }
   ],
   "source": [
    "RF"
   ]
  },
  {
   "cell_type": "code",
   "execution_count": null,
   "metadata": {
    "collapsed": false
   },
   "outputs": [],
   "source": []
  },
  {
   "cell_type": "markdown",
   "metadata": {},
   "source": [
    "# Optimize parameters"
   ]
  },
  {
   "cell_type": "code",
   "execution_count": 143,
   "metadata": {
    "collapsed": true
   },
   "outputs": [],
   "source": [
    "from sklearn.model_selection import GridSearchCV"
   ]
  },
  {
   "cell_type": "code",
   "execution_count": 148,
   "metadata": {
    "collapsed": true
   },
   "outputs": [],
   "source": [
    "params = [\n",
    "  {'n_estimators': [20, 40, 100, 300, 500], 'max_depth': [5, 10, 15]}\n",
    " ]"
   ]
  },
  {
   "cell_type": "code",
   "execution_count": 156,
   "metadata": {
    "collapsed": false
   },
   "outputs": [],
   "source": [
    " optimizer = GridSearchCV(RF, \n",
    "                   param_grid=params, \n",
    "                   scoring='roc_auc', cv=3,  \n",
    "                   return_train_score=True, \n",
    "                   refit='roc_auc', n_jobs=2)"
   ]
  },
  {
   "cell_type": "code",
   "execution_count": 157,
   "metadata": {
    "collapsed": true
   },
   "outputs": [],
   "source": [
    "opt_rf=optimizer.fit(X_train,y_train)"
   ]
  },
  {
   "cell_type": "code",
   "execution_count": 159,
   "metadata": {
    "collapsed": false
   },
   "outputs": [
    {
     "data": {
      "text/plain": [
       "RandomForestClassifier(bootstrap=True, class_weight=None, criterion='gini',\n",
       "            max_depth=5, max_features='auto', max_leaf_nodes=None,\n",
       "            min_impurity_decrease=0.0, min_impurity_split=None,\n",
       "            min_samples_leaf=1, min_samples_split=2,\n",
       "            min_weight_fraction_leaf=0.0, n_estimators=20, n_jobs=1,\n",
       "            oob_score=False, random_state=None, verbose=0,\n",
       "            warm_start=False)"
      ]
     },
     "execution_count": 159,
     "metadata": {},
     "output_type": "execute_result"
    }
   ],
   "source": [
    "opt_rf.best_estimator_"
   ]
  },
  {
   "cell_type": "code",
   "execution_count": 161,
   "metadata": {
    "collapsed": false
   },
   "outputs": [],
   "source": [
    "probas_opt=opt_rf.predict_proba(X_test)[:,1]"
   ]
  },
  {
   "cell_type": "code",
   "execution_count": 163,
   "metadata": {
    "collapsed": false
   },
   "outputs": [],
   "source": [
    "predictions_opt=opt_rf.predict(X_test)"
   ]
  },
  {
   "cell_type": "code",
   "execution_count": 164,
   "metadata": {
    "collapsed": false
   },
   "outputs": [
    {
     "data": {
      "text/plain": [
       "0.79882868847729505"
      ]
     },
     "execution_count": 164,
     "metadata": {},
     "output_type": "execute_result"
    }
   ],
   "source": [
    "roc_auc_score(y_test, predictions_opt)"
   ]
  },
  {
   "cell_type": "code",
   "execution_count": null,
   "metadata": {
    "collapsed": true
   },
   "outputs": [],
   "source": []
  },
  {
   "cell_type": "code",
   "execution_count": null,
   "metadata": {
    "collapsed": true
   },
   "outputs": [],
   "source": []
  }
 ],
 "metadata": {
  "kernelspec": {
   "display_name": "Python 3",
   "language": "python",
   "name": "python3"
  },
  "language_info": {
   "codemirror_mode": {
    "name": "ipython",
    "version": 3
   },
   "file_extension": ".py",
   "mimetype": "text/x-python",
   "name": "python",
   "nbconvert_exporter": "python",
   "pygments_lexer": "ipython3",
   "version": "3.5.4"
  }
 },
 "nbformat": 4,
 "nbformat_minor": 0
}

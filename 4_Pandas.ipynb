{
 "cells": [
  {
   "cell_type": "markdown",
   "metadata": {},
   "source": [
    "# Pandas package\n",
    "    - Efficient data manipulation through Dataframe structure\n",
    "    - Pandas Dataframe based on Numpy (efficient calculations and data wrangling)\n",
    "    - Similar to R data manipulation\n",
    "    - Similar to SQL"
   ]
  },
  {
   "cell_type": "markdown",
   "metadata": {},
   "source": [
    "# Importing Existing Datasets (PyDataset and ScikitLearn libraries)\n"
   ]
  },
  {
   "cell_type": "code",
   "execution_count": 1,
   "metadata": {
    "collapsed": false
   },
   "outputs": [
    {
     "name": "stdout",
     "output_type": "stream",
     "text": [
      "Requirement already satisfied: pydataset in /Users/user/anaconda/lib/python3.5/site-packages\n",
      "Requirement already satisfied: pandas in /Users/user/anaconda/lib/python3.5/site-packages (from pydataset)\n",
      "Requirement already satisfied: python-dateutil>=2 in /Users/user/anaconda/lib/python3.5/site-packages (from pandas->pydataset)\n",
      "Requirement already satisfied: pytz>=2011k in /Users/user/anaconda/lib/python3.5/site-packages (from pandas->pydataset)\n",
      "Requirement already satisfied: numpy>=1.7.0 in /Users/user/anaconda/lib/python3.5/site-packages (from pandas->pydataset)\n",
      "Requirement already satisfied: six>=1.5 in /Users/user/anaconda/lib/python3.5/site-packages (from python-dateutil>=2->pandas->pydataset)\n"
     ]
    }
   ],
   "source": [
    "!pip install pydataset\n",
    "import pandas as pd\n",
    "from pydataset import data\n",
    "from sklearn import datasets\n",
    "# There is also arcGis pro"
   ]
  },
  {
   "cell_type": "code",
   "execution_count": 2,
   "metadata": {
    "collapsed": true
   },
   "outputs": [],
   "source": [
    "titanic=data('titanic')"
   ]
  },
  {
   "cell_type": "code",
   "execution_count": 5,
   "metadata": {
    "collapsed": false
   },
   "outputs": [
    {
     "data": {
      "text/html": [
       "<div>\n",
       "<table border=\"1\" class=\"dataframe\">\n",
       "  <thead>\n",
       "    <tr style=\"text-align: right;\">\n",
       "      <th></th>\n",
       "      <th>class</th>\n",
       "      <th>age</th>\n",
       "      <th>sex</th>\n",
       "      <th>survived</th>\n",
       "    </tr>\n",
       "  </thead>\n",
       "  <tbody>\n",
       "    <tr>\n",
       "      <th>1</th>\n",
       "      <td>1st class</td>\n",
       "      <td>adults</td>\n",
       "      <td>man</td>\n",
       "      <td>yes</td>\n",
       "    </tr>\n",
       "    <tr>\n",
       "      <th>2</th>\n",
       "      <td>1st class</td>\n",
       "      <td>adults</td>\n",
       "      <td>man</td>\n",
       "      <td>yes</td>\n",
       "    </tr>\n",
       "    <tr>\n",
       "      <th>3</th>\n",
       "      <td>1st class</td>\n",
       "      <td>adults</td>\n",
       "      <td>man</td>\n",
       "      <td>yes</td>\n",
       "    </tr>\n",
       "    <tr>\n",
       "      <th>4</th>\n",
       "      <td>1st class</td>\n",
       "      <td>adults</td>\n",
       "      <td>man</td>\n",
       "      <td>yes</td>\n",
       "    </tr>\n",
       "    <tr>\n",
       "      <th>5</th>\n",
       "      <td>1st class</td>\n",
       "      <td>adults</td>\n",
       "      <td>man</td>\n",
       "      <td>yes</td>\n",
       "    </tr>\n",
       "  </tbody>\n",
       "</table>\n",
       "</div>"
      ],
      "text/plain": [
       "       class     age  sex survived\n",
       "1  1st class  adults  man      yes\n",
       "2  1st class  adults  man      yes\n",
       "3  1st class  adults  man      yes\n",
       "4  1st class  adults  man      yes\n",
       "5  1st class  adults  man      yes"
      ]
     },
     "execution_count": 5,
     "metadata": {},
     "output_type": "execute_result"
    }
   ],
   "source": [
    "titanic.head(5)"
   ]
  },
  {
   "cell_type": "code",
   "execution_count": 6,
   "metadata": {
    "collapsed": false
   },
   "outputs": [
    {
     "data": {
      "text/plain": [
       "1316"
      ]
     },
     "execution_count": 6,
     "metadata": {},
     "output_type": "execute_result"
    }
   ],
   "source": [
    "len(titanic)"
   ]
  },
  {
   "cell_type": "code",
   "execution_count": 8,
   "metadata": {
    "collapsed": false
   },
   "outputs": [
    {
     "data": {
      "text/plain": [
       "(1316, 4)"
      ]
     },
     "execution_count": 8,
     "metadata": {},
     "output_type": "execute_result"
    }
   ],
   "source": [
    "titanic.shape"
   ]
  },
  {
   "cell_type": "code",
   "execution_count": 20,
   "metadata": {
    "collapsed": false
   },
   "outputs": [
    {
     "data": {
      "text/plain": [
       "5264"
      ]
     },
     "execution_count": 20,
     "metadata": {},
     "output_type": "execute_result"
    }
   ],
   "source": [
    "titanic.size"
   ]
  },
  {
   "cell_type": "code",
   "execution_count": 12,
   "metadata": {
    "collapsed": false
   },
   "outputs": [
    {
     "data": {
      "text/plain": [
       "Index(['class', 'age', 'sex', 'survived'], dtype='object')"
      ]
     },
     "execution_count": 12,
     "metadata": {},
     "output_type": "execute_result"
    }
   ],
   "source": [
    "titanic.columns"
   ]
  },
  {
   "cell_type": "code",
   "execution_count": 14,
   "metadata": {
    "collapsed": false
   },
   "outputs": [
    {
     "data": {
      "text/plain": [
       "class       object\n",
       "age         object\n",
       "sex         object\n",
       "survived    object\n",
       "dtype: object"
      ]
     },
     "execution_count": 14,
     "metadata": {},
     "output_type": "execute_result"
    }
   ],
   "source": [
    "titanic.dtypes"
   ]
  },
  {
   "cell_type": "markdown",
   "metadata": {},
   "source": [
    "### Pandas Series\n",
    "  - documentation: https://pandas.pydata.org/pandas-docs/stable/generated/pandas.Series.html "
   ]
  },
  {
   "cell_type": "code",
   "execution_count": 21,
   "metadata": {
    "collapsed": false
   },
   "outputs": [
    {
     "data": {
      "text/plain": [
       "1316"
      ]
     },
     "execution_count": 21,
     "metadata": {},
     "output_type": "execute_result"
    }
   ],
   "source": [
    "titanic['age'].size"
   ]
  },
  {
   "cell_type": "code",
   "execution_count": 22,
   "metadata": {
    "collapsed": false
   },
   "outputs": [
    {
     "name": "stdout",
     "output_type": "stream",
     "text": [
      "<class 'pandas.core.frame.DataFrame'>\n",
      "<class 'pandas.core.series.Series'>\n"
     ]
    }
   ],
   "source": [
    "print(type(titanic))\n",
    "print(type(titanic['age']))"
   ]
  },
  {
   "cell_type": "code",
   "execution_count": 23,
   "metadata": {
    "collapsed": false
   },
   "outputs": [
    {
     "name": "stdout",
     "output_type": "stream",
     "text": [
      "1       adults\n",
      "2       adults\n",
      "3       adults\n",
      "4       adults\n",
      "5       adults\n",
      "6       adults\n",
      "7       adults\n",
      "8       adults\n",
      "9       adults\n",
      "10      adults\n",
      "11      adults\n",
      "12      adults\n",
      "13      adults\n",
      "14      adults\n",
      "15      adults\n",
      "16      adults\n",
      "17      adults\n",
      "18      adults\n",
      "19      adults\n",
      "20      adults\n",
      "21      adults\n",
      "22      adults\n",
      "23      adults\n",
      "24      adults\n",
      "25      adults\n",
      "26      adults\n",
      "27      adults\n",
      "28      adults\n",
      "29      adults\n",
      "30      adults\n",
      "31      adults\n",
      "32      adults\n",
      "33      adults\n",
      "34      adults\n",
      "35      adults\n",
      "36      adults\n",
      "37      adults\n",
      "38      adults\n",
      "39      adults\n",
      "40      adults\n",
      "41      adults\n",
      "42      adults\n",
      "43      adults\n",
      "44      adults\n",
      "45      adults\n",
      "46      adults\n",
      "47      adults\n",
      "48      adults\n",
      "49      adults\n",
      "50      adults\n",
      "51      adults\n",
      "52      adults\n",
      "53      adults\n",
      "54      adults\n",
      "55      adults\n",
      "56      adults\n",
      "57      adults\n",
      "58      adults\n",
      "59      adults\n",
      "60      adults\n",
      "61      adults\n",
      "62      adults\n",
      "63      adults\n",
      "64      adults\n",
      "65      adults\n",
      "66      adults\n",
      "67      adults\n",
      "68      adults\n",
      "69      adults\n",
      "70      adults\n",
      "71      adults\n",
      "72      adults\n",
      "73      adults\n",
      "74      adults\n",
      "75      adults\n",
      "76      adults\n",
      "77      adults\n",
      "78      adults\n",
      "79      adults\n",
      "80      adults\n",
      "81      adults\n",
      "82      adults\n",
      "83      adults\n",
      "84      adults\n",
      "85      adults\n",
      "         ...  \n",
      "1232    adults\n",
      "1233    adults\n",
      "1234    adults\n",
      "1235    adults\n",
      "1236    adults\n",
      "1237    adults\n",
      "1238     child\n",
      "1239     child\n",
      "1240     child\n",
      "1241     child\n",
      "1242     child\n",
      "1243     child\n",
      "1244     child\n",
      "1245     child\n",
      "1246     child\n",
      "1247     child\n",
      "1248     child\n",
      "1249     child\n",
      "1250     child\n",
      "1251     child\n",
      "1252     child\n",
      "1253     child\n",
      "1254     child\n",
      "1255     child\n",
      "1256     child\n",
      "1257     child\n",
      "1258     child\n",
      "1259     child\n",
      "1260     child\n",
      "1261     child\n",
      "1262     child\n",
      "1263     child\n",
      "1264     child\n",
      "1265     child\n",
      "1266     child\n",
      "1267     child\n",
      "1268     child\n",
      "1269     child\n",
      "1270     child\n",
      "1271     child\n",
      "1272     child\n",
      "1273     child\n",
      "1274     child\n",
      "1275     child\n",
      "1276     child\n",
      "1277     child\n",
      "1278     child\n",
      "1279     child\n",
      "1280     child\n",
      "1281     child\n",
      "1282     child\n",
      "1283     child\n",
      "1284     child\n",
      "1285     child\n",
      "1286     child\n",
      "1287     child\n",
      "1288     child\n",
      "1289     child\n",
      "1290     child\n",
      "1291     child\n",
      "1292     child\n",
      "1293     child\n",
      "1294     child\n",
      "1295     child\n",
      "1296     child\n",
      "1297     child\n",
      "1298     child\n",
      "1299     child\n",
      "1300     child\n",
      "1301     child\n",
      "1302     child\n",
      "1303     child\n",
      "1304     child\n",
      "1305     child\n",
      "1306     child\n",
      "1307     child\n",
      "1308     child\n",
      "1309     child\n",
      "1310     child\n",
      "1311     child\n",
      "1312     child\n",
      "1313     child\n",
      "1314     child\n",
      "1315     child\n",
      "1316     child\n",
      "Name: age, dtype: object\n"
     ]
    }
   ],
   "source": [
    "print(titanic.age)"
   ]
  },
  {
   "cell_type": "code",
   "execution_count": 25,
   "metadata": {
    "collapsed": false
   },
   "outputs": [
    {
     "data": {
      "text/plain": [
       "array(['adults', 'child'], dtype=object)"
      ]
     },
     "execution_count": 25,
     "metadata": {},
     "output_type": "execute_result"
    }
   ],
   "source": [
    "titanic.age.unique()"
   ]
  },
  {
   "cell_type": "code",
   "execution_count": null,
   "metadata": {
    "collapsed": true
   },
   "outputs": [],
   "source": []
  }
 ],
 "metadata": {
  "kernelspec": {
   "display_name": "Python 3",
   "language": "python",
   "name": "python3"
  },
  "language_info": {
   "codemirror_mode": {
    "name": "ipython",
    "version": 3
   },
   "file_extension": ".py",
   "mimetype": "text/x-python",
   "name": "python",
   "nbconvert_exporter": "python",
   "pygments_lexer": "ipython3",
   "version": "3.5.4"
  }
 },
 "nbformat": 4,
 "nbformat_minor": 0
}

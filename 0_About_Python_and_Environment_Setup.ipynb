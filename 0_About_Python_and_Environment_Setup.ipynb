{
 "cells": [
  {
   "cell_type": "markdown",
   "metadata": {},
   "source": [
    "### Python\n",
    "\n",
    "Programing language that is:\n",
    "    - Interpreted\n",
    "    - Object oriented\n",
    "    - Used for rapid development and scripting\n",
    "    - Free\n",
    "\n",
    "More about python: https://www.python.org\n",
    "Difference with other programming languages: https://www.python.org/doc/essays/comparisons/"
   ]
  },
  {
   "cell_type": "code",
   "execution_count": null,
   "metadata": {
    "collapsed": true
   },
   "outputs": [],
   "source": []
  },
  {
   "cell_type": "markdown",
   "metadata": {},
   "source": [
    "## Resources for learning\n",
    " - Course notebooks\n",
    " - !!!! Python Documentation\n",
    " - MOOC"
   ]
  },
  {
   "cell_type": "markdown",
   "metadata": {},
   "source": [
    "## Environment Setup"
   ]
  },
  {
   "cell_type": "markdown",
   "metadata": {
    "collapsed": true
   },
   "source": [
    "### Anaconda installation\n",
    "\n",
    "- Download Anaconda Installer  for Python 3.6 for your OS type from the following link\n",
    "    - Windows: https://www.anaconda.com/download/#windows\n",
    "    - MacOS: https://www.anaconda.com/download/#macos\n",
    "    - Linux: https://www.anaconda.com/download/#linux\n",
    "\n",
    "- Start Anaconda Navigator or execute jupyter notebook in cmd prompt or terminal\n",
    "- Jupyter notebook should be started on localhost:8888\n"
   ]
  },
  {
   "cell_type": "markdown",
   "metadata": {},
   "source": [
    "### Jupyter notebooks\n",
    " - interactive results\n",
    " - .ipynb file (has to opened through notebook)\n",
    " - may be saved to .py, html, pdf etc.\n",
    " - New - can run different languages (R, Python, Scala etc)\n",
    " - Allows Markdown creation (notes, titles etc)\n",
    " - Cmd (Ctrl) + Shift + P - keyboars dhortcuts\n",
    " - Tab for autocomplete (whivh methods do I have)\n",
    " - Shift + Tab - Documentation string\n",
    " - Useful tips: https://www.dataquest.io/blog/jupyter-notebook-tips-tricks-shortcuts/"
   ]
  },
  {
   "cell_type": "code",
   "execution_count": null,
   "metadata": {
    "collapsed": true
   },
   "outputs": [],
   "source": []
  },
  {
   "cell_type": "code",
   "execution_count": 2,
   "metadata": {
    "collapsed": false
   },
   "outputs": [
    {
     "data": {
      "text/plain": [
       "sys.version_info(major=3, minor=5, micro=4, releaselevel='final', serial=0)"
      ]
     },
     "execution_count": 2,
     "metadata": {},
     "output_type": "execute_result"
    }
   ],
   "source": [
    "import sys\n",
    "sys.version\n",
    "sys.version_info"
   ]
  },
  {
   "cell_type": "code",
   "execution_count": 3,
   "metadata": {
    "collapsed": false
   },
   "outputs": [
    {
     "name": "stdout",
     "output_type": "stream",
     "text": [
      "Requirement already satisfied: hmmlearn in /Users/user/anaconda/lib/python3.5/site-packages\r\n"
     ]
    }
   ],
   "source": [
    "!pip install hmmlearn"
   ]
  },
  {
   "cell_type": "code",
   "execution_count": null,
   "metadata": {
    "collapsed": true
   },
   "outputs": [],
   "source": [
    "?str.replace"
   ]
  }
 ],
 "metadata": {
  "kernelspec": {
   "display_name": "Python 3",
   "language": "python",
   "name": "python3"
  },
  "language_info": {
   "codemirror_mode": {
    "name": "ipython",
    "version": 3
   },
   "file_extension": ".py",
   "mimetype": "text/x-python",
   "name": "python",
   "nbconvert_exporter": "python",
   "pygments_lexer": "ipython3",
   "version": "3.6.3"
  }
 },
 "nbformat": 4,
 "nbformat_minor": 0
}

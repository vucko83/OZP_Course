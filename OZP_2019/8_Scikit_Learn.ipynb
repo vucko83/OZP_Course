{
 "cells": [
  {
   "cell_type": "markdown",
   "metadata": {},
   "source": [
    "# Data Mining and Machine Learning"
   ]
  },
  {
   "cell_type": "code",
   "execution_count": 39,
   "metadata": {
    "collapsed": true
   },
   "outputs": [],
   "source": [
    "from sklearn.ensemble import RandomForestClassifier\n",
    "from pydataset import data\n",
    "import numpy as np"
   ]
  },
  {
   "cell_type": "code",
   "execution_count": 3,
   "metadata": {},
   "outputs": [
    {
     "data": {
      "text/html": [
       "<div>\n",
       "<table border=\"1\" class=\"dataframe\">\n",
       "  <thead>\n",
       "    <tr style=\"text-align: right;\">\n",
       "      <th></th>\n",
       "      <th>dataset_id</th>\n",
       "      <th>title</th>\n",
       "    </tr>\n",
       "  </thead>\n",
       "  <tbody>\n",
       "    <tr>\n",
       "      <th>0</th>\n",
       "      <td>AirPassengers</td>\n",
       "      <td>Monthly Airline Passenger Numbers 1949-1960</td>\n",
       "    </tr>\n",
       "    <tr>\n",
       "      <th>1</th>\n",
       "      <td>BJsales</td>\n",
       "      <td>Sales Data with Leading Indicator</td>\n",
       "    </tr>\n",
       "    <tr>\n",
       "      <th>2</th>\n",
       "      <td>BOD</td>\n",
       "      <td>Biochemical Oxygen Demand</td>\n",
       "    </tr>\n",
       "    <tr>\n",
       "      <th>3</th>\n",
       "      <td>Formaldehyde</td>\n",
       "      <td>Determination of Formaldehyde</td>\n",
       "    </tr>\n",
       "    <tr>\n",
       "      <th>4</th>\n",
       "      <td>HairEyeColor</td>\n",
       "      <td>Hair and Eye Color of Statistics Students</td>\n",
       "    </tr>\n",
       "    <tr>\n",
       "      <th>5</th>\n",
       "      <td>InsectSprays</td>\n",
       "      <td>Effectiveness of Insect Sprays</td>\n",
       "    </tr>\n",
       "    <tr>\n",
       "      <th>6</th>\n",
       "      <td>JohnsonJohnson</td>\n",
       "      <td>Quarterly Earnings per Johnson &amp; Johnson Share</td>\n",
       "    </tr>\n",
       "    <tr>\n",
       "      <th>7</th>\n",
       "      <td>LakeHuron</td>\n",
       "      <td>Level of Lake Huron 1875-1972</td>\n",
       "    </tr>\n",
       "    <tr>\n",
       "      <th>8</th>\n",
       "      <td>LifeCycleSavings</td>\n",
       "      <td>Intercountry Life-Cycle Savings Data</td>\n",
       "    </tr>\n",
       "    <tr>\n",
       "      <th>9</th>\n",
       "      <td>Nile</td>\n",
       "      <td>Flow of the River Nile</td>\n",
       "    </tr>\n",
       "    <tr>\n",
       "      <th>10</th>\n",
       "      <td>OrchardSprays</td>\n",
       "      <td>Potency of Orchard Sprays</td>\n",
       "    </tr>\n",
       "    <tr>\n",
       "      <th>11</th>\n",
       "      <td>PlantGrowth</td>\n",
       "      <td>Results from an Experiment on Plant Growth</td>\n",
       "    </tr>\n",
       "    <tr>\n",
       "      <th>12</th>\n",
       "      <td>Puromycin</td>\n",
       "      <td>Reaction Velocity of an Enzymatic Reaction</td>\n",
       "    </tr>\n",
       "    <tr>\n",
       "      <th>13</th>\n",
       "      <td>Titanic</td>\n",
       "      <td>Survival of passengers on the Titanic</td>\n",
       "    </tr>\n",
       "    <tr>\n",
       "      <th>14</th>\n",
       "      <td>ToothGrowth</td>\n",
       "      <td>The Effect of Vitamin C on Tooth Growth in Guinea Pigs</td>\n",
       "    </tr>\n",
       "    <tr>\n",
       "      <th>15</th>\n",
       "      <td>UCBAdmissions</td>\n",
       "      <td>Student Admissions at UC Berkeley</td>\n",
       "    </tr>\n",
       "    <tr>\n",
       "      <th>16</th>\n",
       "      <td>UKDriverDeaths</td>\n",
       "      <td>Road Casualties in Great Britain 1969-84</td>\n",
       "    </tr>\n",
       "    <tr>\n",
       "      <th>17</th>\n",
       "      <td>UKgas</td>\n",
       "      <td>UK Quarterly Gas Consumption</td>\n",
       "    </tr>\n",
       "    <tr>\n",
       "      <th>18</th>\n",
       "      <td>USAccDeaths</td>\n",
       "      <td>Accidental Deaths in the US 1973-1978</td>\n",
       "    </tr>\n",
       "    <tr>\n",
       "      <th>19</th>\n",
       "      <td>USArrests</td>\n",
       "      <td>Violent Crime Rates by US State</td>\n",
       "    </tr>\n",
       "    <tr>\n",
       "      <th>20</th>\n",
       "      <td>USJudgeRatings</td>\n",
       "      <td>Lawyers' Ratings of State Judges in the US Superior Court</td>\n",
       "    </tr>\n",
       "    <tr>\n",
       "      <th>21</th>\n",
       "      <td>USPersonalExpenditure</td>\n",
       "      <td>Personal Expenditure Data</td>\n",
       "    </tr>\n",
       "    <tr>\n",
       "      <th>22</th>\n",
       "      <td>VADeaths</td>\n",
       "      <td>Death Rates in Virginia (1940)</td>\n",
       "    </tr>\n",
       "    <tr>\n",
       "      <th>23</th>\n",
       "      <td>WWWusage</td>\n",
       "      <td>Internet Usage per Minute</td>\n",
       "    </tr>\n",
       "    <tr>\n",
       "      <th>24</th>\n",
       "      <td>WorldPhones</td>\n",
       "      <td>The World's Telephones</td>\n",
       "    </tr>\n",
       "    <tr>\n",
       "      <th>25</th>\n",
       "      <td>airmiles</td>\n",
       "      <td>Passenger Miles on Commercial US Airlines, 1937-1960</td>\n",
       "    </tr>\n",
       "    <tr>\n",
       "      <th>26</th>\n",
       "      <td>airquality</td>\n",
       "      <td>New York Air Quality Measurements</td>\n",
       "    </tr>\n",
       "    <tr>\n",
       "      <th>27</th>\n",
       "      <td>anscombe</td>\n",
       "      <td>Anscombe's Quartet of 'Identical' Simple Linear Regressions</td>\n",
       "    </tr>\n",
       "    <tr>\n",
       "      <th>28</th>\n",
       "      <td>attenu</td>\n",
       "      <td>The Joyner-Boore Attenuation Data</td>\n",
       "    </tr>\n",
       "    <tr>\n",
       "      <th>29</th>\n",
       "      <td>attitude</td>\n",
       "      <td>The Chatterjee-Price Attitude Data</td>\n",
       "    </tr>\n",
       "    <tr>\n",
       "      <th>30</th>\n",
       "      <td>austres</td>\n",
       "      <td>Quarterly Time Series of the Number of Australian Residents</td>\n",
       "    </tr>\n",
       "    <tr>\n",
       "      <th>31</th>\n",
       "      <td>cars</td>\n",
       "      <td>Speed and Stopping Distances of Cars</td>\n",
       "    </tr>\n",
       "    <tr>\n",
       "      <th>32</th>\n",
       "      <td>chickwts</td>\n",
       "      <td>Chicken Weights by Feed Type</td>\n",
       "    </tr>\n",
       "    <tr>\n",
       "      <th>33</th>\n",
       "      <td>co2</td>\n",
       "      <td>Mauna Loa Atmospheric CO2 Concentration</td>\n",
       "    </tr>\n",
       "    <tr>\n",
       "      <th>34</th>\n",
       "      <td>crimtab</td>\n",
       "      <td>Student's 3000 Criminals Data</td>\n",
       "    </tr>\n",
       "    <tr>\n",
       "      <th>35</th>\n",
       "      <td>discoveries</td>\n",
       "      <td>Yearly Numbers of Important Discoveries</td>\n",
       "    </tr>\n",
       "    <tr>\n",
       "      <th>36</th>\n",
       "      <td>esoph</td>\n",
       "      <td>Smoking, Alcohol and (O)esophageal Cancer</td>\n",
       "    </tr>\n",
       "    <tr>\n",
       "      <th>37</th>\n",
       "      <td>euro</td>\n",
       "      <td>Conversion Rates of Euro Currencies</td>\n",
       "    </tr>\n",
       "    <tr>\n",
       "      <th>38</th>\n",
       "      <td>faithful</td>\n",
       "      <td>Old Faithful Geyser Data</td>\n",
       "    </tr>\n",
       "    <tr>\n",
       "      <th>39</th>\n",
       "      <td>freeny</td>\n",
       "      <td>Freeny's Revenue Data</td>\n",
       "    </tr>\n",
       "    <tr>\n",
       "      <th>40</th>\n",
       "      <td>infert</td>\n",
       "      <td>Infertility after Spontaneous and Induced Abortion</td>\n",
       "    </tr>\n",
       "    <tr>\n",
       "      <th>41</th>\n",
       "      <td>iris</td>\n",
       "      <td>Edgar Anderson's Iris Data</td>\n",
       "    </tr>\n",
       "    <tr>\n",
       "      <th>42</th>\n",
       "      <td>islands</td>\n",
       "      <td>Areas of the World's Major Landmasses</td>\n",
       "    </tr>\n",
       "    <tr>\n",
       "      <th>43</th>\n",
       "      <td>lh</td>\n",
       "      <td>Luteinizing Hormone in Blood Samples</td>\n",
       "    </tr>\n",
       "    <tr>\n",
       "      <th>44</th>\n",
       "      <td>longley</td>\n",
       "      <td>Longley's Economic Regression Data</td>\n",
       "    </tr>\n",
       "    <tr>\n",
       "      <th>45</th>\n",
       "      <td>lynx</td>\n",
       "      <td>Annual Canadian Lynx trappings 1821-1934</td>\n",
       "    </tr>\n",
       "    <tr>\n",
       "      <th>46</th>\n",
       "      <td>morley</td>\n",
       "      <td>Michelson Speed of Light Data</td>\n",
       "    </tr>\n",
       "    <tr>\n",
       "      <th>47</th>\n",
       "      <td>mtcars</td>\n",
       "      <td>Motor Trend Car Road Tests</td>\n",
       "    </tr>\n",
       "    <tr>\n",
       "      <th>48</th>\n",
       "      <td>nhtemp</td>\n",
       "      <td>Average Yearly Temperatures in New Haven</td>\n",
       "    </tr>\n",
       "    <tr>\n",
       "      <th>49</th>\n",
       "      <td>nottem</td>\n",
       "      <td>Average Monthly Temperatures at Nottingham, 1920-1939</td>\n",
       "    </tr>\n",
       "    <tr>\n",
       "      <th>50</th>\n",
       "      <td>npk</td>\n",
       "      <td>Classical N, P, K Factorial Experiment</td>\n",
       "    </tr>\n",
       "    <tr>\n",
       "      <th>51</th>\n",
       "      <td>occupationalStatus</td>\n",
       "      <td>Occupational Status of Fathers and their Sons</td>\n",
       "    </tr>\n",
       "    <tr>\n",
       "      <th>52</th>\n",
       "      <td>precip</td>\n",
       "      <td>Annual Precipitation in US Cities</td>\n",
       "    </tr>\n",
       "    <tr>\n",
       "      <th>53</th>\n",
       "      <td>presidents</td>\n",
       "      <td>Quarterly Approval Ratings of US Presidents</td>\n",
       "    </tr>\n",
       "    <tr>\n",
       "      <th>54</th>\n",
       "      <td>pressure</td>\n",
       "      <td>Vapor Pressure of Mercury as a Function of Temperature</td>\n",
       "    </tr>\n",
       "    <tr>\n",
       "      <th>55</th>\n",
       "      <td>quakes</td>\n",
       "      <td>Locations of Earthquakes off Fiji</td>\n",
       "    </tr>\n",
       "    <tr>\n",
       "      <th>56</th>\n",
       "      <td>randu</td>\n",
       "      <td>Random Numbers from Congruential Generator RANDU</td>\n",
       "    </tr>\n",
       "    <tr>\n",
       "      <th>57</th>\n",
       "      <td>rivers</td>\n",
       "      <td>Lengths of Major North American Rivers</td>\n",
       "    </tr>\n",
       "    <tr>\n",
       "      <th>58</th>\n",
       "      <td>rock</td>\n",
       "      <td>Measurements on Petroleum Rock Samples</td>\n",
       "    </tr>\n",
       "    <tr>\n",
       "      <th>59</th>\n",
       "      <td>sleep</td>\n",
       "      <td>Student's Sleep Data</td>\n",
       "    </tr>\n",
       "    <tr>\n",
       "      <th>60</th>\n",
       "      <td>stackloss</td>\n",
       "      <td>Brownlee's Stack Loss Plant Data</td>\n",
       "    </tr>\n",
       "    <tr>\n",
       "      <th>61</th>\n",
       "      <td>sunspot.month</td>\n",
       "      <td>Monthly Sunspot Data, from 1749 to \"Present\"</td>\n",
       "    </tr>\n",
       "    <tr>\n",
       "      <th>62</th>\n",
       "      <td>sunspot.year</td>\n",
       "      <td>Yearly Sunspot Data, 1700-1988</td>\n",
       "    </tr>\n",
       "    <tr>\n",
       "      <th>63</th>\n",
       "      <td>sunspots</td>\n",
       "      <td>Monthly Sunspot Numbers, 1749-1983</td>\n",
       "    </tr>\n",
       "    <tr>\n",
       "      <th>64</th>\n",
       "      <td>swiss</td>\n",
       "      <td>Swiss Fertility and Socioeconomic Indicators (1888) Data</td>\n",
       "    </tr>\n",
       "    <tr>\n",
       "      <th>65</th>\n",
       "      <td>treering</td>\n",
       "      <td>Yearly Treering Data, -6000-1979</td>\n",
       "    </tr>\n",
       "    <tr>\n",
       "      <th>66</th>\n",
       "      <td>trees</td>\n",
       "      <td>Girth, Height and Volume for Black Cherry Trees</td>\n",
       "    </tr>\n",
       "    <tr>\n",
       "      <th>67</th>\n",
       "      <td>uspop</td>\n",
       "      <td>Populations Recorded by the US Census</td>\n",
       "    </tr>\n",
       "    <tr>\n",
       "      <th>68</th>\n",
       "      <td>volcano</td>\n",
       "      <td>Topographic Information on Auckland's Maunga Whau Volcano</td>\n",
       "    </tr>\n",
       "    <tr>\n",
       "      <th>69</th>\n",
       "      <td>warpbreaks</td>\n",
       "      <td>The Number of Breaks in Yarn during Weaving</td>\n",
       "    </tr>\n",
       "    <tr>\n",
       "      <th>70</th>\n",
       "      <td>women</td>\n",
       "      <td>Average Heights and Weights for American Women</td>\n",
       "    </tr>\n",
       "    <tr>\n",
       "      <th>71</th>\n",
       "      <td>acme</td>\n",
       "      <td>Monthly Excess Returns</td>\n",
       "    </tr>\n",
       "    <tr>\n",
       "      <th>72</th>\n",
       "      <td>aids</td>\n",
       "      <td>Delay in AIDS Reporting in England and Wales</td>\n",
       "    </tr>\n",
       "    <tr>\n",
       "      <th>73</th>\n",
       "      <td>aircondit</td>\n",
       "      <td>Failures of Air-conditioning Equipment</td>\n",
       "    </tr>\n",
       "    <tr>\n",
       "      <th>74</th>\n",
       "      <td>aircondit7</td>\n",
       "      <td>Failures of Air-conditioning Equipment</td>\n",
       "    </tr>\n",
       "    <tr>\n",
       "      <th>75</th>\n",
       "      <td>amis</td>\n",
       "      <td>Car Speeding and Warning Signs</td>\n",
       "    </tr>\n",
       "    <tr>\n",
       "      <th>76</th>\n",
       "      <td>aml</td>\n",
       "      <td>Remission Times for Acute Myelogenous Leukaemia</td>\n",
       "    </tr>\n",
       "    <tr>\n",
       "      <th>77</th>\n",
       "      <td>bigcity</td>\n",
       "      <td>Population of U.S. Cities</td>\n",
       "    </tr>\n",
       "    <tr>\n",
       "      <th>78</th>\n",
       "      <td>brambles</td>\n",
       "      <td>Spatial Location of Bramble Canes</td>\n",
       "    </tr>\n",
       "    <tr>\n",
       "      <th>79</th>\n",
       "      <td>breslow</td>\n",
       "      <td>Smoking Deaths Among Doctors</td>\n",
       "    </tr>\n",
       "    <tr>\n",
       "      <th>80</th>\n",
       "      <td>calcium</td>\n",
       "      <td>Calcium Uptake Data</td>\n",
       "    </tr>\n",
       "    <tr>\n",
       "      <th>81</th>\n",
       "      <td>cane</td>\n",
       "      <td>Sugar-cane Disease Data</td>\n",
       "    </tr>\n",
       "    <tr>\n",
       "      <th>82</th>\n",
       "      <td>capability</td>\n",
       "      <td>Simulated Manufacturing Process Data</td>\n",
       "    </tr>\n",
       "    <tr>\n",
       "      <th>83</th>\n",
       "      <td>catsM</td>\n",
       "      <td>Weight Data for Domestic Cats</td>\n",
       "    </tr>\n",
       "    <tr>\n",
       "      <th>84</th>\n",
       "      <td>cav</td>\n",
       "      <td>Position of Muscle Caveolae</td>\n",
       "    </tr>\n",
       "    <tr>\n",
       "      <th>...</th>\n",
       "      <td>...</td>\n",
       "      <td>...</td>\n",
       "    </tr>\n",
       "    <tr>\n",
       "      <th>672</th>\n",
       "      <td>students</td>\n",
       "      <td>Student Risk Taking</td>\n",
       "    </tr>\n",
       "    <tr>\n",
       "      <th>673</th>\n",
       "      <td>suicides</td>\n",
       "      <td>Crowd Baiting Behaviour and Suicides</td>\n",
       "    </tr>\n",
       "    <tr>\n",
       "      <th>674</th>\n",
       "      <td>toothpaste</td>\n",
       "      <td>Toothpaste Data</td>\n",
       "    </tr>\n",
       "    <tr>\n",
       "      <th>675</th>\n",
       "      <td>voting</td>\n",
       "      <td>House of Representatives Voting Data</td>\n",
       "    </tr>\n",
       "    <tr>\n",
       "      <th>676</th>\n",
       "      <td>water</td>\n",
       "      <td>Mortality and Water Hardness</td>\n",
       "    </tr>\n",
       "    <tr>\n",
       "      <th>677</th>\n",
       "      <td>watervoles</td>\n",
       "      <td>Water Voles Data</td>\n",
       "    </tr>\n",
       "    <tr>\n",
       "      <th>678</th>\n",
       "      <td>waves</td>\n",
       "      <td>Electricity from Wave Power at Sea</td>\n",
       "    </tr>\n",
       "    <tr>\n",
       "      <th>679</th>\n",
       "      <td>weightgain</td>\n",
       "      <td>Gain in Weight of Rats</td>\n",
       "    </tr>\n",
       "    <tr>\n",
       "      <th>680</th>\n",
       "      <td>womensrole</td>\n",
       "      <td>Womens Role in Society</td>\n",
       "    </tr>\n",
       "    <tr>\n",
       "      <th>681</th>\n",
       "      <td>Bechtoldt</td>\n",
       "      <td>Seven data sets showing a bifactor solution.</td>\n",
       "    </tr>\n",
       "    <tr>\n",
       "      <th>682</th>\n",
       "      <td>Bechtoldt.1</td>\n",
       "      <td>Seven data sets showing a bifactor solution.</td>\n",
       "    </tr>\n",
       "    <tr>\n",
       "      <th>683</th>\n",
       "      <td>Bechtoldt.2</td>\n",
       "      <td>Seven data sets showing a bifactor solution.</td>\n",
       "    </tr>\n",
       "    <tr>\n",
       "      <th>684</th>\n",
       "      <td>Dwyer</td>\n",
       "      <td>8 cognitive variables used by Dwyer for an example.</td>\n",
       "    </tr>\n",
       "    <tr>\n",
       "      <th>685</th>\n",
       "      <td>Gleser</td>\n",
       "      <td>Example data from Gleser, Cronbach and Rajaratnam (1965) to show basic principles of g...</td>\n",
       "    </tr>\n",
       "    <tr>\n",
       "      <th>686</th>\n",
       "      <td>Gorsuch</td>\n",
       "      <td>Example data set from Gorsuch (1997) for an example factor extension.</td>\n",
       "    </tr>\n",
       "    <tr>\n",
       "      <th>687</th>\n",
       "      <td>Harman.5</td>\n",
       "      <td>5 socio-economic variables from Harman (1967)</td>\n",
       "    </tr>\n",
       "    <tr>\n",
       "      <th>688</th>\n",
       "      <td>Harman.8</td>\n",
       "      <td>Correlations of eight physical variables (from Harman, 1966)</td>\n",
       "    </tr>\n",
       "    <tr>\n",
       "      <th>689</th>\n",
       "      <td>Harman.political</td>\n",
       "      <td>Eight political variables used by Harman (1967) as example 8.17</td>\n",
       "    </tr>\n",
       "    <tr>\n",
       "      <th>690</th>\n",
       "      <td>Holzinger</td>\n",
       "      <td>Seven data sets showing a bifactor solution.</td>\n",
       "    </tr>\n",
       "    <tr>\n",
       "      <th>691</th>\n",
       "      <td>Holzinger.9</td>\n",
       "      <td>Seven data sets showing a bifactor solution.</td>\n",
       "    </tr>\n",
       "    <tr>\n",
       "      <th>692</th>\n",
       "      <td>Reise</td>\n",
       "      <td>Seven data sets showing a bifactor solution.</td>\n",
       "    </tr>\n",
       "    <tr>\n",
       "      <th>693</th>\n",
       "      <td>Schmid</td>\n",
       "      <td>12 variables created by Schmid and Leiman to show the Schmid-Leiman Transformation</td>\n",
       "    </tr>\n",
       "    <tr>\n",
       "      <th>694</th>\n",
       "      <td>Thurstone</td>\n",
       "      <td>Seven data sets showing a bifactor solution.</td>\n",
       "    </tr>\n",
       "    <tr>\n",
       "      <th>695</th>\n",
       "      <td>Thurstone.33</td>\n",
       "      <td>Seven data sets showing a bifactor solution.</td>\n",
       "    </tr>\n",
       "    <tr>\n",
       "      <th>696</th>\n",
       "      <td>Tucker</td>\n",
       "      <td>9 Cognitive variables discussed by Tucker and Lewis (1973)</td>\n",
       "    </tr>\n",
       "    <tr>\n",
       "      <th>697</th>\n",
       "      <td>ability</td>\n",
       "      <td>16 ability items scored as correct or incorrect.</td>\n",
       "    </tr>\n",
       "    <tr>\n",
       "      <th>698</th>\n",
       "      <td>affect</td>\n",
       "      <td>Two data sets of affect and arousal scores as a function of personality and movie cond...</td>\n",
       "    </tr>\n",
       "    <tr>\n",
       "      <th>699</th>\n",
       "      <td>bfi</td>\n",
       "      <td>25 Personality items representing 5 factors</td>\n",
       "    </tr>\n",
       "    <tr>\n",
       "      <th>700</th>\n",
       "      <td>bfi.dictionary</td>\n",
       "      <td>25 Personality items representing 5 factors</td>\n",
       "    </tr>\n",
       "    <tr>\n",
       "      <th>701</th>\n",
       "      <td>blot</td>\n",
       "      <td>Bond's Logical Operations Test - BLOT</td>\n",
       "    </tr>\n",
       "    <tr>\n",
       "      <th>702</th>\n",
       "      <td>burt</td>\n",
       "      <td>11 emotional variables from Burt (1915)</td>\n",
       "    </tr>\n",
       "    <tr>\n",
       "      <th>703</th>\n",
       "      <td>cities</td>\n",
       "      <td>Distances between 11 US cities</td>\n",
       "    </tr>\n",
       "    <tr>\n",
       "      <th>704</th>\n",
       "      <td>cubits</td>\n",
       "      <td>Galton's example of the relationship between height and 'cubit' or forearm length</td>\n",
       "    </tr>\n",
       "    <tr>\n",
       "      <th>705</th>\n",
       "      <td>cushny</td>\n",
       "      <td>A data set from Cushny and Peebles (1905) on the effect of three drugs on hours of sle...</td>\n",
       "    </tr>\n",
       "    <tr>\n",
       "      <th>706</th>\n",
       "      <td>epi</td>\n",
       "      <td>Eysenck Personality Inventory (EPI) data for 3570 participants</td>\n",
       "    </tr>\n",
       "    <tr>\n",
       "      <th>707</th>\n",
       "      <td>epi.bfi</td>\n",
       "      <td>13 personality scales from the Eysenck Personality Inventory and Big 5 inventory</td>\n",
       "    </tr>\n",
       "    <tr>\n",
       "      <th>708</th>\n",
       "      <td>epi.dictionary</td>\n",
       "      <td>Eysenck Personality Inventory (EPI) data for 3570 participants</td>\n",
       "    </tr>\n",
       "    <tr>\n",
       "      <th>709</th>\n",
       "      <td>galton</td>\n",
       "      <td>Galton's Mid parent child height data</td>\n",
       "    </tr>\n",
       "    <tr>\n",
       "      <th>710</th>\n",
       "      <td>heights</td>\n",
       "      <td>A data.frame of the Galton (1888) height and cubit data set.</td>\n",
       "    </tr>\n",
       "    <tr>\n",
       "      <th>711</th>\n",
       "      <td>income</td>\n",
       "      <td>US family income from US census 2008</td>\n",
       "    </tr>\n",
       "    <tr>\n",
       "      <th>712</th>\n",
       "      <td>iqitems</td>\n",
       "      <td>16 multiple choice IQ items</td>\n",
       "    </tr>\n",
       "    <tr>\n",
       "      <th>713</th>\n",
       "      <td>msq</td>\n",
       "      <td>75 mood items from the Motivational State Questionnaire for 3896 participants</td>\n",
       "    </tr>\n",
       "    <tr>\n",
       "      <th>714</th>\n",
       "      <td>neo</td>\n",
       "      <td>NEO correlation matrix from the NEO_PI_R manual</td>\n",
       "    </tr>\n",
       "    <tr>\n",
       "      <th>715</th>\n",
       "      <td>peas</td>\n",
       "      <td>Galton's Peas</td>\n",
       "    </tr>\n",
       "    <tr>\n",
       "      <th>716</th>\n",
       "      <td>sat.act</td>\n",
       "      <td>3 Measures of ability: SATV, SATQ, ACT</td>\n",
       "    </tr>\n",
       "    <tr>\n",
       "      <th>717</th>\n",
       "      <td>withinBetween</td>\n",
       "      <td>An example of the distinction between within group and between group correlations</td>\n",
       "    </tr>\n",
       "    <tr>\n",
       "      <th>718</th>\n",
       "      <td>Bosco</td>\n",
       "      <td>Boscovich Data</td>\n",
       "    </tr>\n",
       "    <tr>\n",
       "      <th>719</th>\n",
       "      <td>CobarOre</td>\n",
       "      <td>Cobar Ore data</td>\n",
       "    </tr>\n",
       "    <tr>\n",
       "      <th>720</th>\n",
       "      <td>Mammals</td>\n",
       "      <td>Garland(1983) Data on Running Speed of Mammals</td>\n",
       "    </tr>\n",
       "    <tr>\n",
       "      <th>721</th>\n",
       "      <td>barro</td>\n",
       "      <td>Barro Data</td>\n",
       "    </tr>\n",
       "    <tr>\n",
       "      <th>722</th>\n",
       "      <td>engel</td>\n",
       "      <td>Engel Data</td>\n",
       "    </tr>\n",
       "    <tr>\n",
       "      <th>723</th>\n",
       "      <td>uis</td>\n",
       "      <td>UIS Drug Treatment study data</td>\n",
       "    </tr>\n",
       "    <tr>\n",
       "      <th>724</th>\n",
       "      <td>dietox</td>\n",
       "      <td>Growth curves of pigs in a 3x3 factorial experiment</td>\n",
       "    </tr>\n",
       "    <tr>\n",
       "      <th>725</th>\n",
       "      <td>koch</td>\n",
       "      <td>Ordinal Data from Koch</td>\n",
       "    </tr>\n",
       "    <tr>\n",
       "      <th>726</th>\n",
       "      <td>ohio</td>\n",
       "      <td>Ohio Children Wheeze Status</td>\n",
       "    </tr>\n",
       "    <tr>\n",
       "      <th>727</th>\n",
       "      <td>respdis</td>\n",
       "      <td>Clustered Ordinal Respiratory Disorder</td>\n",
       "    </tr>\n",
       "    <tr>\n",
       "      <th>728</th>\n",
       "      <td>respiratory</td>\n",
       "      <td>Data from a clinical trial comparing two treatments for a respiratory illness</td>\n",
       "    </tr>\n",
       "    <tr>\n",
       "      <th>729</th>\n",
       "      <td>seizure</td>\n",
       "      <td>Epiliptic Seizures</td>\n",
       "    </tr>\n",
       "    <tr>\n",
       "      <th>730</th>\n",
       "      <td>sitka89</td>\n",
       "      <td>Growth of Sitka Spruce Trees</td>\n",
       "    </tr>\n",
       "    <tr>\n",
       "      <th>731</th>\n",
       "      <td>spruce</td>\n",
       "      <td>Log-size of 79 Sitka spruce trees</td>\n",
       "    </tr>\n",
       "    <tr>\n",
       "      <th>732</th>\n",
       "      <td>liver</td>\n",
       "      <td>Liver related laboratory data</td>\n",
       "    </tr>\n",
       "    <tr>\n",
       "      <th>733</th>\n",
       "      <td>portpirie</td>\n",
       "      <td>Rain, wavesurge and portpirie datasets.</td>\n",
       "    </tr>\n",
       "    <tr>\n",
       "      <th>734</th>\n",
       "      <td>rain</td>\n",
       "      <td>Rain, wavesurge and portpirie datasets.</td>\n",
       "    </tr>\n",
       "    <tr>\n",
       "      <th>735</th>\n",
       "      <td>summer</td>\n",
       "      <td>Air pollution data, separately for summer and winter months</td>\n",
       "    </tr>\n",
       "    <tr>\n",
       "      <th>736</th>\n",
       "      <td>wavesurge</td>\n",
       "      <td>Rain, wavesurge and portpirie datasets.</td>\n",
       "    </tr>\n",
       "    <tr>\n",
       "      <th>737</th>\n",
       "      <td>winter</td>\n",
       "      <td>Air pollution data, separately for summer and winter months</td>\n",
       "    </tr>\n",
       "    <tr>\n",
       "      <th>738</th>\n",
       "      <td>arthritis</td>\n",
       "      <td>Rheumatoid Arthritis Clinical Trial</td>\n",
       "    </tr>\n",
       "    <tr>\n",
       "      <th>739</th>\n",
       "      <td>housing</td>\n",
       "      <td>Homeless Data</td>\n",
       "    </tr>\n",
       "    <tr>\n",
       "      <th>740</th>\n",
       "      <td>bmw</td>\n",
       "      <td>Daily Log Returns on BMW Share Price</td>\n",
       "    </tr>\n",
       "    <tr>\n",
       "      <th>741</th>\n",
       "      <td>danish</td>\n",
       "      <td>Danish Fire Insurance Claims</td>\n",
       "    </tr>\n",
       "    <tr>\n",
       "      <th>742</th>\n",
       "      <td>nidd.annual</td>\n",
       "      <td>The River Nidd Data</td>\n",
       "    </tr>\n",
       "    <tr>\n",
       "      <th>743</th>\n",
       "      <td>nidd.thresh</td>\n",
       "      <td>The River Nidd Data</td>\n",
       "    </tr>\n",
       "    <tr>\n",
       "      <th>744</th>\n",
       "      <td>siemens</td>\n",
       "      <td>Daily Log Returns on Siemens Share Price</td>\n",
       "    </tr>\n",
       "    <tr>\n",
       "      <th>745</th>\n",
       "      <td>sp.raw</td>\n",
       "      <td>SP Data to June 1993</td>\n",
       "    </tr>\n",
       "    <tr>\n",
       "      <th>746</th>\n",
       "      <td>spto87</td>\n",
       "      <td>SP Return Data to October 1987</td>\n",
       "    </tr>\n",
       "    <tr>\n",
       "      <th>747</th>\n",
       "      <td>Dyestuff</td>\n",
       "      <td>Yield of dyestuff by batch</td>\n",
       "    </tr>\n",
       "    <tr>\n",
       "      <th>748</th>\n",
       "      <td>Dyestuff2</td>\n",
       "      <td>Yield of dyestuff by batch</td>\n",
       "    </tr>\n",
       "    <tr>\n",
       "      <th>749</th>\n",
       "      <td>InstEval</td>\n",
       "      <td>University Lecture/Instructor Evaluations by Students at ETH</td>\n",
       "    </tr>\n",
       "    <tr>\n",
       "      <th>750</th>\n",
       "      <td>Pastes</td>\n",
       "      <td>Paste strength by batch and cask</td>\n",
       "    </tr>\n",
       "    <tr>\n",
       "      <th>751</th>\n",
       "      <td>Penicillin</td>\n",
       "      <td>Variation in penicillin testing</td>\n",
       "    </tr>\n",
       "    <tr>\n",
       "      <th>752</th>\n",
       "      <td>VerbAgg</td>\n",
       "      <td>Verbal Aggression item responses</td>\n",
       "    </tr>\n",
       "    <tr>\n",
       "      <th>753</th>\n",
       "      <td>cake</td>\n",
       "      <td>Breakage Angle of Chocolate Cakes</td>\n",
       "    </tr>\n",
       "    <tr>\n",
       "      <th>754</th>\n",
       "      <td>cbpp</td>\n",
       "      <td>Contagious bovine pleuropneumonia</td>\n",
       "    </tr>\n",
       "    <tr>\n",
       "      <th>755</th>\n",
       "      <td>grouseticks</td>\n",
       "      <td>Data on red grouse ticks from Elston et al. 2001</td>\n",
       "    </tr>\n",
       "    <tr>\n",
       "      <th>756</th>\n",
       "      <td>sleepstudy</td>\n",
       "      <td>Reaction times in a sleep deprivation study</td>\n",
       "    </tr>\n",
       "  </tbody>\n",
       "</table>\n",
       "<p>757 rows × 2 columns</p>\n",
       "</div>"
      ],
      "text/plain": [
       "                dataset_id  \\\n",
       "0            AirPassengers   \n",
       "1                  BJsales   \n",
       "2                      BOD   \n",
       "3             Formaldehyde   \n",
       "4             HairEyeColor   \n",
       "5             InsectSprays   \n",
       "6           JohnsonJohnson   \n",
       "7                LakeHuron   \n",
       "8         LifeCycleSavings   \n",
       "9                     Nile   \n",
       "10           OrchardSprays   \n",
       "11             PlantGrowth   \n",
       "12               Puromycin   \n",
       "13                 Titanic   \n",
       "14             ToothGrowth   \n",
       "15           UCBAdmissions   \n",
       "16          UKDriverDeaths   \n",
       "17                   UKgas   \n",
       "18             USAccDeaths   \n",
       "19               USArrests   \n",
       "20          USJudgeRatings   \n",
       "21   USPersonalExpenditure   \n",
       "22                VADeaths   \n",
       "23                WWWusage   \n",
       "24             WorldPhones   \n",
       "25                airmiles   \n",
       "26              airquality   \n",
       "27                anscombe   \n",
       "28                  attenu   \n",
       "29                attitude   \n",
       "30                 austres   \n",
       "31                    cars   \n",
       "32                chickwts   \n",
       "33                     co2   \n",
       "34                 crimtab   \n",
       "35             discoveries   \n",
       "36                   esoph   \n",
       "37                    euro   \n",
       "38                faithful   \n",
       "39                  freeny   \n",
       "40                  infert   \n",
       "41                    iris   \n",
       "42                 islands   \n",
       "43                      lh   \n",
       "44                 longley   \n",
       "45                    lynx   \n",
       "46                  morley   \n",
       "47                  mtcars   \n",
       "48                  nhtemp   \n",
       "49                  nottem   \n",
       "50                     npk   \n",
       "51      occupationalStatus   \n",
       "52                  precip   \n",
       "53              presidents   \n",
       "54                pressure   \n",
       "55                  quakes   \n",
       "56                   randu   \n",
       "57                  rivers   \n",
       "58                    rock   \n",
       "59                   sleep   \n",
       "60               stackloss   \n",
       "61           sunspot.month   \n",
       "62            sunspot.year   \n",
       "63                sunspots   \n",
       "64                   swiss   \n",
       "65                treering   \n",
       "66                   trees   \n",
       "67                   uspop   \n",
       "68                 volcano   \n",
       "69              warpbreaks   \n",
       "70                   women   \n",
       "71                    acme   \n",
       "72                    aids   \n",
       "73               aircondit   \n",
       "74              aircondit7   \n",
       "75                    amis   \n",
       "76                     aml   \n",
       "77                 bigcity   \n",
       "78                brambles   \n",
       "79                 breslow   \n",
       "80                 calcium   \n",
       "81                    cane   \n",
       "82              capability   \n",
       "83                   catsM   \n",
       "84                     cav   \n",
       "..                     ...   \n",
       "672               students   \n",
       "673               suicides   \n",
       "674             toothpaste   \n",
       "675                 voting   \n",
       "676                  water   \n",
       "677             watervoles   \n",
       "678                  waves   \n",
       "679             weightgain   \n",
       "680             womensrole   \n",
       "681              Bechtoldt   \n",
       "682            Bechtoldt.1   \n",
       "683            Bechtoldt.2   \n",
       "684                  Dwyer   \n",
       "685                 Gleser   \n",
       "686                Gorsuch   \n",
       "687               Harman.5   \n",
       "688               Harman.8   \n",
       "689       Harman.political   \n",
       "690              Holzinger   \n",
       "691            Holzinger.9   \n",
       "692                  Reise   \n",
       "693                 Schmid   \n",
       "694              Thurstone   \n",
       "695           Thurstone.33   \n",
       "696                 Tucker   \n",
       "697                ability   \n",
       "698                 affect   \n",
       "699                    bfi   \n",
       "700         bfi.dictionary   \n",
       "701                   blot   \n",
       "702                   burt   \n",
       "703                 cities   \n",
       "704                 cubits   \n",
       "705                 cushny   \n",
       "706                    epi   \n",
       "707                epi.bfi   \n",
       "708         epi.dictionary   \n",
       "709                 galton   \n",
       "710                heights   \n",
       "711                 income   \n",
       "712                iqitems   \n",
       "713                    msq   \n",
       "714                    neo   \n",
       "715                   peas   \n",
       "716                sat.act   \n",
       "717          withinBetween   \n",
       "718                  Bosco   \n",
       "719               CobarOre   \n",
       "720                Mammals   \n",
       "721                  barro   \n",
       "722                  engel   \n",
       "723                    uis   \n",
       "724                 dietox   \n",
       "725                   koch   \n",
       "726                   ohio   \n",
       "727                respdis   \n",
       "728            respiratory   \n",
       "729                seizure   \n",
       "730                sitka89   \n",
       "731                 spruce   \n",
       "732                  liver   \n",
       "733              portpirie   \n",
       "734                   rain   \n",
       "735                 summer   \n",
       "736              wavesurge   \n",
       "737                 winter   \n",
       "738              arthritis   \n",
       "739                housing   \n",
       "740                    bmw   \n",
       "741                 danish   \n",
       "742            nidd.annual   \n",
       "743            nidd.thresh   \n",
       "744                siemens   \n",
       "745                 sp.raw   \n",
       "746                 spto87   \n",
       "747               Dyestuff   \n",
       "748              Dyestuff2   \n",
       "749               InstEval   \n",
       "750                 Pastes   \n",
       "751             Penicillin   \n",
       "752                VerbAgg   \n",
       "753                   cake   \n",
       "754                   cbpp   \n",
       "755            grouseticks   \n",
       "756             sleepstudy   \n",
       "\n",
       "                                                                                         title  \n",
       "0                                                  Monthly Airline Passenger Numbers 1949-1960  \n",
       "1                                                            Sales Data with Leading Indicator  \n",
       "2                                                                    Biochemical Oxygen Demand  \n",
       "3                                                                Determination of Formaldehyde  \n",
       "4                                                    Hair and Eye Color of Statistics Students  \n",
       "5                                                               Effectiveness of Insect Sprays  \n",
       "6                                               Quarterly Earnings per Johnson & Johnson Share  \n",
       "7                                                                Level of Lake Huron 1875-1972  \n",
       "8                                                         Intercountry Life-Cycle Savings Data  \n",
       "9                                                                       Flow of the River Nile  \n",
       "10                                                                   Potency of Orchard Sprays  \n",
       "11                                                  Results from an Experiment on Plant Growth  \n",
       "12                                                  Reaction Velocity of an Enzymatic Reaction  \n",
       "13                                                       Survival of passengers on the Titanic  \n",
       "14                                      The Effect of Vitamin C on Tooth Growth in Guinea Pigs  \n",
       "15                                                           Student Admissions at UC Berkeley  \n",
       "16                                                    Road Casualties in Great Britain 1969-84  \n",
       "17                                                                UK Quarterly Gas Consumption  \n",
       "18                                                       Accidental Deaths in the US 1973-1978  \n",
       "19                                                             Violent Crime Rates by US State  \n",
       "20                                   Lawyers' Ratings of State Judges in the US Superior Court  \n",
       "21                                                                   Personal Expenditure Data  \n",
       "22                                                              Death Rates in Virginia (1940)  \n",
       "23                                                                   Internet Usage per Minute  \n",
       "24                                                                      The World's Telephones  \n",
       "25                                        Passenger Miles on Commercial US Airlines, 1937-1960  \n",
       "26                                                           New York Air Quality Measurements  \n",
       "27                                 Anscombe's Quartet of 'Identical' Simple Linear Regressions  \n",
       "28                                                           The Joyner-Boore Attenuation Data  \n",
       "29                                                          The Chatterjee-Price Attitude Data  \n",
       "30                                 Quarterly Time Series of the Number of Australian Residents  \n",
       "31                                                        Speed and Stopping Distances of Cars  \n",
       "32                                                                Chicken Weights by Feed Type  \n",
       "33                                                     Mauna Loa Atmospheric CO2 Concentration  \n",
       "34                                                               Student's 3000 Criminals Data  \n",
       "35                                                     Yearly Numbers of Important Discoveries  \n",
       "36                                                   Smoking, Alcohol and (O)esophageal Cancer  \n",
       "37                                                         Conversion Rates of Euro Currencies  \n",
       "38                                                                    Old Faithful Geyser Data  \n",
       "39                                                                       Freeny's Revenue Data  \n",
       "40                                          Infertility after Spontaneous and Induced Abortion  \n",
       "41                                                                  Edgar Anderson's Iris Data  \n",
       "42                                                       Areas of the World's Major Landmasses  \n",
       "43                                                        Luteinizing Hormone in Blood Samples  \n",
       "44                                                          Longley's Economic Regression Data  \n",
       "45                                                    Annual Canadian Lynx trappings 1821-1934  \n",
       "46                                                               Michelson Speed of Light Data  \n",
       "47                                                                  Motor Trend Car Road Tests  \n",
       "48                                                    Average Yearly Temperatures in New Haven  \n",
       "49                                       Average Monthly Temperatures at Nottingham, 1920-1939  \n",
       "50                                                      Classical N, P, K Factorial Experiment  \n",
       "51                                               Occupational Status of Fathers and their Sons  \n",
       "52                                                           Annual Precipitation in US Cities  \n",
       "53                                                 Quarterly Approval Ratings of US Presidents  \n",
       "54                                      Vapor Pressure of Mercury as a Function of Temperature  \n",
       "55                                                           Locations of Earthquakes off Fiji  \n",
       "56                                            Random Numbers from Congruential Generator RANDU  \n",
       "57                                                      Lengths of Major North American Rivers  \n",
       "58                                                      Measurements on Petroleum Rock Samples  \n",
       "59                                                                        Student's Sleep Data  \n",
       "60                                                            Brownlee's Stack Loss Plant Data  \n",
       "61                                                Monthly Sunspot Data, from 1749 to \"Present\"  \n",
       "62                                                              Yearly Sunspot Data, 1700-1988  \n",
       "63                                                          Monthly Sunspot Numbers, 1749-1983  \n",
       "64                                    Swiss Fertility and Socioeconomic Indicators (1888) Data  \n",
       "65                                                            Yearly Treering Data, -6000-1979  \n",
       "66                                             Girth, Height and Volume for Black Cherry Trees  \n",
       "67                                                       Populations Recorded by the US Census  \n",
       "68                                   Topographic Information on Auckland's Maunga Whau Volcano  \n",
       "69                                                 The Number of Breaks in Yarn during Weaving  \n",
       "70                                              Average Heights and Weights for American Women  \n",
       "71                                                                      Monthly Excess Returns  \n",
       "72                                                Delay in AIDS Reporting in England and Wales  \n",
       "73                                                      Failures of Air-conditioning Equipment  \n",
       "74                                                      Failures of Air-conditioning Equipment  \n",
       "75                                                              Car Speeding and Warning Signs  \n",
       "76                                             Remission Times for Acute Myelogenous Leukaemia  \n",
       "77                                                                   Population of U.S. Cities  \n",
       "78                                                           Spatial Location of Bramble Canes  \n",
       "79                                                                Smoking Deaths Among Doctors  \n",
       "80                                                                         Calcium Uptake Data  \n",
       "81                                                                     Sugar-cane Disease Data  \n",
       "82                                                        Simulated Manufacturing Process Data  \n",
       "83                                                               Weight Data for Domestic Cats  \n",
       "84                                                                 Position of Muscle Caveolae  \n",
       "..                                                                                         ...  \n",
       "672                                                                        Student Risk Taking  \n",
       "673                                                       Crowd Baiting Behaviour and Suicides  \n",
       "674                                                                            Toothpaste Data  \n",
       "675                                                       House of Representatives Voting Data  \n",
       "676                                                               Mortality and Water Hardness  \n",
       "677                                                                           Water Voles Data  \n",
       "678                                                         Electricity from Wave Power at Sea  \n",
       "679                                                                     Gain in Weight of Rats  \n",
       "680                                                                     Womens Role in Society  \n",
       "681                                               Seven data sets showing a bifactor solution.  \n",
       "682                                               Seven data sets showing a bifactor solution.  \n",
       "683                                               Seven data sets showing a bifactor solution.  \n",
       "684                                        8 cognitive variables used by Dwyer for an example.  \n",
       "685  Example data from Gleser, Cronbach and Rajaratnam (1965) to show basic principles of g...  \n",
       "686                      Example data set from Gorsuch (1997) for an example factor extension.  \n",
       "687                                              5 socio-economic variables from Harman (1967)  \n",
       "688                               Correlations of eight physical variables (from Harman, 1966)  \n",
       "689                            Eight political variables used by Harman (1967) as example 8.17  \n",
       "690                                               Seven data sets showing a bifactor solution.  \n",
       "691                                               Seven data sets showing a bifactor solution.  \n",
       "692                                               Seven data sets showing a bifactor solution.  \n",
       "693         12 variables created by Schmid and Leiman to show the Schmid-Leiman Transformation  \n",
       "694                                               Seven data sets showing a bifactor solution.  \n",
       "695                                               Seven data sets showing a bifactor solution.  \n",
       "696                                 9 Cognitive variables discussed by Tucker and Lewis (1973)  \n",
       "697                                           16 ability items scored as correct or incorrect.  \n",
       "698  Two data sets of affect and arousal scores as a function of personality and movie cond...  \n",
       "699                                                25 Personality items representing 5 factors  \n",
       "700                                                25 Personality items representing 5 factors  \n",
       "701                                                      Bond's Logical Operations Test - BLOT  \n",
       "702                                                    11 emotional variables from Burt (1915)  \n",
       "703                                                             Distances between 11 US cities  \n",
       "704          Galton's example of the relationship between height and 'cubit' or forearm length  \n",
       "705  A data set from Cushny and Peebles (1905) on the effect of three drugs on hours of sle...  \n",
       "706                             Eysenck Personality Inventory (EPI) data for 3570 participants  \n",
       "707           13 personality scales from the Eysenck Personality Inventory and Big 5 inventory  \n",
       "708                             Eysenck Personality Inventory (EPI) data for 3570 participants  \n",
       "709                                                      Galton's Mid parent child height data  \n",
       "710                               A data.frame of the Galton (1888) height and cubit data set.  \n",
       "711                                                       US family income from US census 2008  \n",
       "712                                                                16 multiple choice IQ items  \n",
       "713              75 mood items from the Motivational State Questionnaire for 3896 participants  \n",
       "714                                            NEO correlation matrix from the NEO_PI_R manual  \n",
       "715                                                                              Galton's Peas  \n",
       "716                                                     3 Measures of ability: SATV, SATQ, ACT  \n",
       "717          An example of the distinction between within group and between group correlations  \n",
       "718                                                                             Boscovich Data  \n",
       "719                                                                             Cobar Ore data  \n",
       "720                                             Garland(1983) Data on Running Speed of Mammals  \n",
       "721                                                                                 Barro Data  \n",
       "722                                                                                 Engel Data  \n",
       "723                                                              UIS Drug Treatment study data  \n",
       "724                                        Growth curves of pigs in a 3x3 factorial experiment  \n",
       "725                                                                     Ordinal Data from Koch  \n",
       "726                                                                Ohio Children Wheeze Status  \n",
       "727                                                     Clustered Ordinal Respiratory Disorder  \n",
       "728              Data from a clinical trial comparing two treatments for a respiratory illness  \n",
       "729                                                                         Epiliptic Seizures  \n",
       "730                                                               Growth of Sitka Spruce Trees  \n",
       "731                                                          Log-size of 79 Sitka spruce trees  \n",
       "732                                                              Liver related laboratory data  \n",
       "733                                                    Rain, wavesurge and portpirie datasets.  \n",
       "734                                                    Rain, wavesurge and portpirie datasets.  \n",
       "735                                Air pollution data, separately for summer and winter months  \n",
       "736                                                    Rain, wavesurge and portpirie datasets.  \n",
       "737                                Air pollution data, separately for summer and winter months  \n",
       "738                                                        Rheumatoid Arthritis Clinical Trial  \n",
       "739                                                                              Homeless Data  \n",
       "740                                                       Daily Log Returns on BMW Share Price  \n",
       "741                                                               Danish Fire Insurance Claims  \n",
       "742                                                                        The River Nidd Data  \n",
       "743                                                                        The River Nidd Data  \n",
       "744                                                   Daily Log Returns on Siemens Share Price  \n",
       "745                                                                       SP Data to June 1993  \n",
       "746                                                             SP Return Data to October 1987  \n",
       "747                                                                 Yield of dyestuff by batch  \n",
       "748                                                                 Yield of dyestuff by batch  \n",
       "749                               University Lecture/Instructor Evaluations by Students at ETH  \n",
       "750                                                           Paste strength by batch and cask  \n",
       "751                                                            Variation in penicillin testing  \n",
       "752                                                           Verbal Aggression item responses  \n",
       "753                                                          Breakage Angle of Chocolate Cakes  \n",
       "754                                                          Contagious bovine pleuropneumonia  \n",
       "755                                           Data on red grouse ticks from Elston et al. 2001  \n",
       "756                                                Reaction times in a sleep deprivation study  \n",
       "\n",
       "[757 rows x 2 columns]"
      ]
     },
     "execution_count": 3,
     "metadata": {},
     "output_type": "execute_result"
    }
   ],
   "source": [
    "data()"
   ]
  },
  {
   "cell_type": "code",
   "execution_count": 40,
   "metadata": {
    "collapsed": true
   },
   "outputs": [],
   "source": [
    "iris=data('iris')"
   ]
  },
  {
   "cell_type": "code",
   "execution_count": 41,
   "metadata": {},
   "outputs": [
    {
     "data": {
      "text/html": [
       "<div>\n",
       "<table border=\"1\" class=\"dataframe\">\n",
       "  <thead>\n",
       "    <tr style=\"text-align: right;\">\n",
       "      <th></th>\n",
       "      <th>Sepal.Length</th>\n",
       "      <th>Sepal.Width</th>\n",
       "      <th>Petal.Length</th>\n",
       "      <th>Petal.Width</th>\n",
       "      <th>Species</th>\n",
       "    </tr>\n",
       "  </thead>\n",
       "  <tbody>\n",
       "    <tr>\n",
       "      <th>1</th>\n",
       "      <td>5.1</td>\n",
       "      <td>3.5</td>\n",
       "      <td>1.4</td>\n",
       "      <td>0.2</td>\n",
       "      <td>setosa</td>\n",
       "    </tr>\n",
       "    <tr>\n",
       "      <th>2</th>\n",
       "      <td>4.9</td>\n",
       "      <td>3.0</td>\n",
       "      <td>1.4</td>\n",
       "      <td>0.2</td>\n",
       "      <td>setosa</td>\n",
       "    </tr>\n",
       "    <tr>\n",
       "      <th>3</th>\n",
       "      <td>4.7</td>\n",
       "      <td>3.2</td>\n",
       "      <td>1.3</td>\n",
       "      <td>0.2</td>\n",
       "      <td>setosa</td>\n",
       "    </tr>\n",
       "    <tr>\n",
       "      <th>4</th>\n",
       "      <td>4.6</td>\n",
       "      <td>3.1</td>\n",
       "      <td>1.5</td>\n",
       "      <td>0.2</td>\n",
       "      <td>setosa</td>\n",
       "    </tr>\n",
       "    <tr>\n",
       "      <th>5</th>\n",
       "      <td>5.0</td>\n",
       "      <td>3.6</td>\n",
       "      <td>1.4</td>\n",
       "      <td>0.2</td>\n",
       "      <td>setosa</td>\n",
       "    </tr>\n",
       "  </tbody>\n",
       "</table>\n",
       "</div>"
      ],
      "text/plain": [
       "   Sepal.Length  Sepal.Width  Petal.Length  Petal.Width Species\n",
       "1           5.1          3.5           1.4          0.2  setosa\n",
       "2           4.9          3.0           1.4          0.2  setosa\n",
       "3           4.7          3.2           1.3          0.2  setosa\n",
       "4           4.6          3.1           1.5          0.2  setosa\n",
       "5           5.0          3.6           1.4          0.2  setosa"
      ]
     },
     "execution_count": 41,
     "metadata": {},
     "output_type": "execute_result"
    }
   ],
   "source": [
    "iris.head()"
   ]
  },
  {
   "cell_type": "code",
   "execution_count": 42,
   "metadata": {},
   "outputs": [
    {
     "data": {
      "text/html": [
       "<div>\n",
       "<table border=\"1\" class=\"dataframe\">\n",
       "  <thead>\n",
       "    <tr style=\"text-align: right;\">\n",
       "      <th></th>\n",
       "      <th>Sepal.Length</th>\n",
       "      <th>Sepal.Width</th>\n",
       "      <th>Petal.Length</th>\n",
       "      <th>Petal.Width</th>\n",
       "    </tr>\n",
       "  </thead>\n",
       "  <tbody>\n",
       "    <tr>\n",
       "      <th>count</th>\n",
       "      <td>150.000000</td>\n",
       "      <td>150.000000</td>\n",
       "      <td>150.000000</td>\n",
       "      <td>150.000000</td>\n",
       "    </tr>\n",
       "    <tr>\n",
       "      <th>mean</th>\n",
       "      <td>5.843333</td>\n",
       "      <td>3.057333</td>\n",
       "      <td>3.758000</td>\n",
       "      <td>1.199333</td>\n",
       "    </tr>\n",
       "    <tr>\n",
       "      <th>std</th>\n",
       "      <td>0.828066</td>\n",
       "      <td>0.435866</td>\n",
       "      <td>1.765298</td>\n",
       "      <td>0.762238</td>\n",
       "    </tr>\n",
       "    <tr>\n",
       "      <th>min</th>\n",
       "      <td>4.300000</td>\n",
       "      <td>2.000000</td>\n",
       "      <td>1.000000</td>\n",
       "      <td>0.100000</td>\n",
       "    </tr>\n",
       "    <tr>\n",
       "      <th>25%</th>\n",
       "      <td>5.100000</td>\n",
       "      <td>2.800000</td>\n",
       "      <td>1.600000</td>\n",
       "      <td>0.300000</td>\n",
       "    </tr>\n",
       "    <tr>\n",
       "      <th>50%</th>\n",
       "      <td>5.800000</td>\n",
       "      <td>3.000000</td>\n",
       "      <td>4.350000</td>\n",
       "      <td>1.300000</td>\n",
       "    </tr>\n",
       "    <tr>\n",
       "      <th>75%</th>\n",
       "      <td>6.400000</td>\n",
       "      <td>3.300000</td>\n",
       "      <td>5.100000</td>\n",
       "      <td>1.800000</td>\n",
       "    </tr>\n",
       "    <tr>\n",
       "      <th>max</th>\n",
       "      <td>7.900000</td>\n",
       "      <td>4.400000</td>\n",
       "      <td>6.900000</td>\n",
       "      <td>2.500000</td>\n",
       "    </tr>\n",
       "  </tbody>\n",
       "</table>\n",
       "</div>"
      ],
      "text/plain": [
       "       Sepal.Length  Sepal.Width  Petal.Length  Petal.Width\n",
       "count    150.000000   150.000000    150.000000   150.000000\n",
       "mean       5.843333     3.057333      3.758000     1.199333\n",
       "std        0.828066     0.435866      1.765298     0.762238\n",
       "min        4.300000     2.000000      1.000000     0.100000\n",
       "25%        5.100000     2.800000      1.600000     0.300000\n",
       "50%        5.800000     3.000000      4.350000     1.300000\n",
       "75%        6.400000     3.300000      5.100000     1.800000\n",
       "max        7.900000     4.400000      6.900000     2.500000"
      ]
     },
     "execution_count": 42,
     "metadata": {},
     "output_type": "execute_result"
    }
   ],
   "source": [
    "iris.describe()"
   ]
  },
  {
   "cell_type": "code",
   "execution_count": 43,
   "metadata": {},
   "outputs": [],
   "source": [
    "X=iris.loc[: ,'Sepal.Length':'Petal.Length'] # Could be done with drop"
   ]
  },
  {
   "cell_type": "code",
   "execution_count": 44,
   "metadata": {},
   "outputs": [],
   "source": [
    "y=iris.loc[: ,'Species']  # can be done without first argument"
   ]
  },
  {
   "cell_type": "code",
   "execution_count": 45,
   "metadata": {},
   "outputs": [
    {
     "data": {
      "text/plain": [
       "Sepal.Length    10\n",
       "Sepal.Width     10\n",
       "Petal.Length    10\n",
       "dtype: int64"
      ]
     },
     "execution_count": 45,
     "metadata": {},
     "output_type": "execute_result"
    }
   ],
   "source": [
    "X[:10].count()"
   ]
  },
  {
   "cell_type": "code",
   "execution_count": 46,
   "metadata": {},
   "outputs": [
    {
     "data": {
      "text/plain": [
       "Sepal.Length    140\n",
       "Sepal.Width     140\n",
       "Petal.Length    140\n",
       "dtype: int64"
      ]
     },
     "execution_count": 46,
     "metadata": {},
     "output_type": "execute_result"
    }
   ],
   "source": [
    "X[10:].count()"
   ]
  },
  {
   "cell_type": "code",
   "execution_count": 47,
   "metadata": {
    "collapsed": true
   },
   "outputs": [],
   "source": [
    "RF=RandomForestClassifier(n_estimators=10)"
   ]
  },
  {
   "cell_type": "code",
   "execution_count": 48,
   "metadata": {},
   "outputs": [],
   "source": [
    "model=RF.fit(X,y)"
   ]
  },
  {
   "cell_type": "code",
   "execution_count": 49,
   "metadata": {},
   "outputs": [
    {
     "data": {
      "text/plain": [
       "sklearn.ensemble.forest.RandomForestClassifier"
      ]
     },
     "execution_count": 49,
     "metadata": {},
     "output_type": "execute_result"
    }
   ],
   "source": [
    "type(model)"
   ]
  },
  {
   "cell_type": "code",
   "execution_count": 50,
   "metadata": {},
   "outputs": [],
   "source": [
    "predictions=model.predict(X)"
   ]
  },
  {
   "cell_type": "markdown",
   "metadata": {},
   "source": [
    "Compare predictions with real labels"
   ]
  },
  {
   "cell_type": "code",
   "execution_count": 54,
   "metadata": {},
   "outputs": [
    {
     "name": "stdout",
     "output_type": "stream",
     "text": [
      "<class 'numpy.ndarray'>\n",
      "<class 'pandas.core.series.Series'>\n"
     ]
    }
   ],
   "source": [
    "print(type(predictions))\n",
    "print(type(y))"
   ]
  },
  {
   "cell_type": "code",
   "execution_count": 55,
   "metadata": {
    "collapsed": true
   },
   "outputs": [],
   "source": [
    "y_real=np.array(y)"
   ]
  },
  {
   "cell_type": "code",
   "execution_count": 59,
   "metadata": {},
   "outputs": [],
   "source": [
    "true_predicted=np.column_stack((y_real, predictions))"
   ]
  },
  {
   "cell_type": "code",
   "execution_count": 62,
   "metadata": {},
   "outputs": [
    {
     "data": {
      "text/plain": [
       "array([['setosa', 'setosa'],\n",
       "       ['setosa', 'setosa'],\n",
       "       ['setosa', 'setosa'],\n",
       "       ['setosa', 'setosa'],\n",
       "       ['setosa', 'setosa'],\n",
       "       ['setosa', 'setosa'],\n",
       "       ['setosa', 'setosa'],\n",
       "       ['setosa', 'setosa'],\n",
       "       ['setosa', 'setosa'],\n",
       "       ['setosa', 'setosa'],\n",
       "       ['setosa', 'setosa'],\n",
       "       ['setosa', 'setosa'],\n",
       "       ['setosa', 'setosa'],\n",
       "       ['setosa', 'setosa'],\n",
       "       ['setosa', 'setosa'],\n",
       "       ['setosa', 'setosa'],\n",
       "       ['setosa', 'setosa'],\n",
       "       ['setosa', 'setosa'],\n",
       "       ['setosa', 'setosa'],\n",
       "       ['setosa', 'setosa'],\n",
       "       ['setosa', 'setosa'],\n",
       "       ['setosa', 'setosa'],\n",
       "       ['setosa', 'setosa'],\n",
       "       ['setosa', 'setosa'],\n",
       "       ['setosa', 'setosa'],\n",
       "       ['setosa', 'setosa'],\n",
       "       ['setosa', 'setosa'],\n",
       "       ['setosa', 'setosa'],\n",
       "       ['setosa', 'setosa'],\n",
       "       ['setosa', 'setosa'],\n",
       "       ['setosa', 'setosa'],\n",
       "       ['setosa', 'setosa'],\n",
       "       ['setosa', 'setosa'],\n",
       "       ['setosa', 'setosa'],\n",
       "       ['setosa', 'setosa'],\n",
       "       ['setosa', 'setosa'],\n",
       "       ['setosa', 'setosa'],\n",
       "       ['setosa', 'setosa'],\n",
       "       ['setosa', 'setosa'],\n",
       "       ['setosa', 'setosa'],\n",
       "       ['setosa', 'setosa'],\n",
       "       ['setosa', 'setosa'],\n",
       "       ['setosa', 'setosa'],\n",
       "       ['setosa', 'setosa'],\n",
       "       ['setosa', 'setosa'],\n",
       "       ['setosa', 'setosa'],\n",
       "       ['setosa', 'setosa'],\n",
       "       ['setosa', 'setosa'],\n",
       "       ['setosa', 'setosa'],\n",
       "       ['setosa', 'setosa'],\n",
       "       ['versicolor', 'versicolor'],\n",
       "       ['versicolor', 'versicolor'],\n",
       "       ['versicolor', 'versicolor'],\n",
       "       ['versicolor', 'versicolor'],\n",
       "       ['versicolor', 'versicolor'],\n",
       "       ['versicolor', 'versicolor'],\n",
       "       ['versicolor', 'versicolor'],\n",
       "       ['versicolor', 'versicolor'],\n",
       "       ['versicolor', 'versicolor'],\n",
       "       ['versicolor', 'versicolor'],\n",
       "       ['versicolor', 'versicolor'],\n",
       "       ['versicolor', 'versicolor'],\n",
       "       ['versicolor', 'versicolor'],\n",
       "       ['versicolor', 'versicolor'],\n",
       "       ['versicolor', 'versicolor'],\n",
       "       ['versicolor', 'versicolor'],\n",
       "       ['versicolor', 'versicolor'],\n",
       "       ['versicolor', 'versicolor'],\n",
       "       ['versicolor', 'versicolor'],\n",
       "       ['versicolor', 'versicolor'],\n",
       "       ['versicolor', 'versicolor'],\n",
       "       ['versicolor', 'versicolor'],\n",
       "       ['versicolor', 'versicolor'],\n",
       "       ['versicolor', 'versicolor'],\n",
       "       ['versicolor', 'versicolor'],\n",
       "       ['versicolor', 'versicolor'],\n",
       "       ['versicolor', 'versicolor'],\n",
       "       ['versicolor', 'versicolor'],\n",
       "       ['versicolor', 'versicolor'],\n",
       "       ['versicolor', 'versicolor'],\n",
       "       ['versicolor', 'versicolor'],\n",
       "       ['versicolor', 'versicolor'],\n",
       "       ['versicolor', 'versicolor'],\n",
       "       ['versicolor', 'versicolor'],\n",
       "       ['versicolor', 'versicolor'],\n",
       "       ['versicolor', 'versicolor'],\n",
       "       ['versicolor', 'versicolor'],\n",
       "       ['versicolor', 'versicolor'],\n",
       "       ['versicolor', 'versicolor'],\n",
       "       ['versicolor', 'versicolor'],\n",
       "       ['versicolor', 'versicolor'],\n",
       "       ['versicolor', 'versicolor'],\n",
       "       ['versicolor', 'versicolor'],\n",
       "       ['versicolor', 'versicolor'],\n",
       "       ['versicolor', 'versicolor'],\n",
       "       ['versicolor', 'versicolor'],\n",
       "       ['versicolor', 'versicolor'],\n",
       "       ['versicolor', 'versicolor'],\n",
       "       ['versicolor', 'versicolor'],\n",
       "       ['versicolor', 'versicolor'],\n",
       "       ['virginica', 'virginica'],\n",
       "       ['virginica', 'virginica'],\n",
       "       ['virginica', 'virginica'],\n",
       "       ['virginica', 'virginica'],\n",
       "       ['virginica', 'virginica'],\n",
       "       ['virginica', 'virginica'],\n",
       "       ['virginica', 'virginica'],\n",
       "       ['virginica', 'virginica'],\n",
       "       ['virginica', 'virginica'],\n",
       "       ['virginica', 'virginica'],\n",
       "       ['virginica', 'virginica'],\n",
       "       ['virginica', 'virginica'],\n",
       "       ['virginica', 'virginica'],\n",
       "       ['virginica', 'virginica'],\n",
       "       ['virginica', 'virginica'],\n",
       "       ['virginica', 'virginica'],\n",
       "       ['virginica', 'virginica'],\n",
       "       ['virginica', 'virginica'],\n",
       "       ['virginica', 'virginica'],\n",
       "       ['virginica', 'virginica'],\n",
       "       ['virginica', 'virginica'],\n",
       "       ['virginica', 'virginica'],\n",
       "       ['virginica', 'virginica'],\n",
       "       ['virginica', 'virginica'],\n",
       "       ['virginica', 'virginica'],\n",
       "       ['virginica', 'virginica'],\n",
       "       ['virginica', 'virginica'],\n",
       "       ['virginica', 'virginica'],\n",
       "       ['virginica', 'virginica'],\n",
       "       ['virginica', 'virginica'],\n",
       "       ['virginica', 'virginica'],\n",
       "       ['virginica', 'virginica'],\n",
       "       ['virginica', 'virginica'],\n",
       "       ['virginica', 'virginica'],\n",
       "       ['virginica', 'virginica'],\n",
       "       ['virginica', 'virginica'],\n",
       "       ['virginica', 'virginica'],\n",
       "       ['virginica', 'virginica'],\n",
       "       ['virginica', 'virginica'],\n",
       "       ['virginica', 'virginica'],\n",
       "       ['virginica', 'virginica'],\n",
       "       ['virginica', 'virginica'],\n",
       "       ['virginica', 'virginica'],\n",
       "       ['virginica', 'virginica'],\n",
       "       ['virginica', 'virginica'],\n",
       "       ['virginica', 'virginica'],\n",
       "       ['virginica', 'virginica'],\n",
       "       ['virginica', 'virginica'],\n",
       "       ['virginica', 'virginica'],\n",
       "       ['virginica', 'virginica']], dtype=object)"
      ]
     },
     "execution_count": 62,
     "metadata": {},
     "output_type": "execute_result"
    }
   ],
   "source": [
    "true_predicted[:,:]"
   ]
  },
  {
   "cell_type": "code",
   "execution_count": 63,
   "metadata": {},
   "outputs": [
    {
     "data": {
      "text/plain": [
       "(150, 2)"
      ]
     },
     "execution_count": 63,
     "metadata": {},
     "output_type": "execute_result"
    }
   ],
   "source": [
    "true_predicted.shape"
   ]
  },
  {
   "cell_type": "code",
   "execution_count": 105,
   "metadata": {
    "collapsed": true
   },
   "outputs": [],
   "source": [
    "def split_train_test(df, test_percentage, shuffle=True):\n",
    "    '''\n",
    "    Splits Dataframe on train and test based on percentage\n",
    "    Also shuffles data\n",
    "    '''\n",
    "    df=df.sample(frac=1)\n",
    "    n=len(df)\n",
    "    split=int(np.floor(n*test_percentage))\n",
    "    test= df.iloc[:split,:]\n",
    "    train=df.iloc[split:,:]\n",
    "    return (train, test)\n",
    "    \n",
    "    "
   ]
  },
  {
   "cell_type": "code",
   "execution_count": 83,
   "metadata": {},
   "outputs": [
    {
     "data": {
      "text/plain": [
       "tuple"
      ]
     },
     "execution_count": 83,
     "metadata": {},
     "output_type": "execute_result"
    }
   ],
   "source": [
    "type(split_train_test(iris, 0.3))"
   ]
  },
  {
   "cell_type": "code",
   "execution_count": 106,
   "metadata": {
    "collapsed": true
   },
   "outputs": [],
   "source": [
    "train, test=split_train_test(iris, 0.3)"
   ]
  },
  {
   "cell_type": "code",
   "execution_count": 107,
   "metadata": {},
   "outputs": [
    {
     "name": "stdout",
     "output_type": "stream",
     "text": [
      "(105, 5)\n",
      "(45, 5)\n",
      "0.3\n"
     ]
    }
   ],
   "source": [
    "print(train.shape)\n",
    "print(test.shape)\n",
    "print(test.shape[0]/(train.shape[0]+test.shape[0]))"
   ]
  },
  {
   "cell_type": "code",
   "execution_count": 89,
   "metadata": {},
   "outputs": [
    {
     "data": {
      "text/plain": [
       "Index(['Sepal.Length', 'Sepal.Width', 'Petal.Length', 'Petal.Width',\n",
       "       'Species'],\n",
       "      dtype='object')"
      ]
     },
     "execution_count": 89,
     "metadata": {},
     "output_type": "execute_result"
    }
   ],
   "source": [
    "train.columns"
   ]
  },
  {
   "cell_type": "code",
   "execution_count": 108,
   "metadata": {},
   "outputs": [],
   "source": [
    "X_train=train.iloc[:, 0:4]\n",
    "y_train=train.iloc[:,4]"
   ]
  },
  {
   "cell_type": "code",
   "execution_count": 109,
   "metadata": {
    "collapsed": true
   },
   "outputs": [],
   "source": []
  },
  {
   "cell_type": "code",
   "execution_count": 111,
   "metadata": {},
   "outputs": [
    {
     "data": {
      "text/plain": [
       "105"
      ]
     },
     "execution_count": 111,
     "metadata": {},
     "output_type": "execute_result"
    }
   ],
   "source": [
    "len(X_train)"
   ]
  },
  {
   "cell_type": "code",
   "execution_count": 96,
   "metadata": {},
   "outputs": [],
   "source": [
    "from sklearn.linear_model import LogisticRegression"
   ]
  },
  {
   "cell_type": "code",
   "execution_count": 99,
   "metadata": {
    "collapsed": true
   },
   "outputs": [],
   "source": [
    "LR= LogisticRegression()"
   ]
  },
  {
   "cell_type": "code",
   "execution_count": 112,
   "metadata": {},
   "outputs": [],
   "source": [
    "model=LR.fit(X_train,y_train)"
   ]
  },
  {
   "cell_type": "code",
   "execution_count": 117,
   "metadata": {
    "collapsed": true
   },
   "outputs": [],
   "source": [
    "X_test=test.iloc[:,0:4]\n",
    "y_test=test.iloc[:,4]"
   ]
  },
  {
   "cell_type": "code",
   "execution_count": null,
   "metadata": {},
   "outputs": [],
   "source": []
  },
  {
   "cell_type": "code",
   "execution_count": 119,
   "metadata": {},
   "outputs": [
    {
     "data": {
      "text/plain": [
       "array(['versicolor', 'setosa', 'versicolor', 'setosa', 'setosa', 'setosa',\n",
       "       'virginica', 'setosa', 'versicolor', 'virginica', 'setosa',\n",
       "       'setosa', 'versicolor', 'virginica', 'versicolor', 'virginica',\n",
       "       'setosa', 'setosa', 'virginica', 'setosa', 'setosa', 'setosa',\n",
       "       'virginica', 'versicolor', 'versicolor', 'setosa', 'virginica',\n",
       "       'virginica', 'versicolor', 'setosa', 'setosa', 'versicolor',\n",
       "       'virginica', 'setosa', 'versicolor', 'virginica', 'versicolor',\n",
       "       'setosa', 'versicolor', 'setosa', 'setosa', 'versicolor',\n",
       "       'versicolor', 'versicolor', 'virginica'], dtype=object)"
      ]
     },
     "execution_count": 119,
     "metadata": {},
     "output_type": "execute_result"
    }
   ],
   "source": [
    "model.predict(X_test)"
   ]
  },
  {
   "cell_type": "markdown",
   "metadata": {},
   "source": [
    "### Real output from Classification algorithm are probabilities"
   ]
  },
  {
   "cell_type": "code",
   "execution_count": 123,
   "metadata": {},
   "outputs": [
    {
     "data": {
      "text/plain": [
       "array([[  1.21458133e-01,   7.10585868e-01,   1.67955999e-01],\n",
       "       [  8.78707877e-01,   1.21261106e-01,   3.10167476e-05]])"
      ]
     },
     "execution_count": 123,
     "metadata": {},
     "output_type": "execute_result"
    }
   ],
   "source": [
    "model.predict_proba(X_test)[0:2,:]"
   ]
  },
  {
   "cell_type": "code",
   "execution_count": 124,
   "metadata": {
    "collapsed": true
   },
   "outputs": [],
   "source": [
    "np.set_printoptions(suppress=True)"
   ]
  },
  {
   "cell_type": "code",
   "execution_count": 160,
   "metadata": {},
   "outputs": [
    {
     "data": {
      "text/plain": [
       "array([[ 0.12145813,  0.71058587,  0.167956  ],\n",
       "       [ 0.87870788,  0.12126111,  0.00003102]])"
      ]
     },
     "execution_count": 160,
     "metadata": {},
     "output_type": "execute_result"
    }
   ],
   "source": [
    "model.predict_proba(X_test)[0:2,:]"
   ]
  },
  {
   "cell_type": "code",
   "execution_count": 130,
   "metadata": {},
   "outputs": [],
   "source": [
    "prediction_probs=model.predict_proba(X_test)[0:2,:]"
   ]
  },
  {
   "cell_type": "code",
   "execution_count": null,
   "metadata": {
    "collapsed": true
   },
   "outputs": [],
   "source": [
    "# Replacing values arr[arr > 255] = x"
   ]
  },
  {
   "cell_type": "markdown",
   "metadata": {},
   "source": [
    "#### Using argmax we can take the largest probabilities"
   ]
  },
  {
   "cell_type": "code",
   "execution_count": 135,
   "metadata": {},
   "outputs": [],
   "source": [
    "pred=np.argmax(model.predict_proba(X_test), axis=1)"
   ]
  },
  {
   "cell_type": "markdown",
   "metadata": {},
   "source": [
    "#### And map them to labels"
   ]
  },
  {
   "cell_type": "code",
   "execution_count": 157,
   "metadata": {
    "collapsed": true
   },
   "outputs": [],
   "source": [
    "map_labels={0:'iris', 1:'Verti', 2:'Rerto'}"
   ]
  },
  {
   "cell_type": "code",
   "execution_count": 168,
   "metadata": {},
   "outputs": [],
   "source": [
    "mapped=np.array([map_labels[x] for x in pred])"
   ]
  },
  {
   "cell_type": "code",
   "execution_count": 172,
   "metadata": {},
   "outputs": [],
   "source": [
    "#np.column_stack((pred, mapped))"
   ]
  },
  {
   "cell_type": "markdown",
   "metadata": {},
   "source": [
    "#### But predict function does that for us"
   ]
  },
  {
   "cell_type": "code",
   "execution_count": 174,
   "metadata": {
    "collapsed": true
   },
   "outputs": [],
   "source": [
    "predictions=model.predict(X_test)"
   ]
  },
  {
   "cell_type": "markdown",
   "metadata": {
    "collapsed": true
   },
   "source": [
    "## Evaluation measures (scoring)\n",
    "       - http://scikit-learn.org/stable/modules/model_evaluation.html#common-cases-predefined-values"
   ]
  },
  {
   "cell_type": "code",
   "execution_count": 176,
   "metadata": {
    "collapsed": true
   },
   "outputs": [],
   "source": [
    "from sklearn.metrics import accuracy_score\n",
    "from sklearn.metrics import confusion_matrix"
   ]
  },
  {
   "cell_type": "code",
   "execution_count": 175,
   "metadata": {},
   "outputs": [
    {
     "data": {
      "text/plain": [
       "0.9555555555555556"
      ]
     },
     "execution_count": 175,
     "metadata": {},
     "output_type": "execute_result"
    }
   ],
   "source": [
    "accuracy_score(y_test, predictions)"
   ]
  },
  {
   "cell_type": "code",
   "execution_count": 177,
   "metadata": {},
   "outputs": [
    {
     "data": {
      "text/plain": [
       "array([[19,  0,  0],\n",
       "       [ 0, 15,  2],\n",
       "       [ 0,  0,  9]])"
      ]
     },
     "execution_count": 177,
     "metadata": {},
     "output_type": "execute_result"
    }
   ],
   "source": [
    "confusion_matrix(y_test, predictions)"
   ]
  },
  {
   "cell_type": "markdown",
   "metadata": {},
   "source": [
    "# Task for today\n",
    "    - Download Titanic Data from Kaggle\n",
    "    - Read training data to Pandas Dataframe\n",
    "    - Discuss which attributes are important for survival prediction\n",
    "    - Shuffle training data\n",
    "    - Split the data on predictors and label (X,y)\n",
    "    - Try to fit Logistic regression on training data\n",
    "    - Check types and remove all categorical features\n",
    "    - Remove features that you do not consider important for prediction (i.e. ids, names)\n",
    "    - Remove rows that have less than 200 features with NaNs in one column\n",
    "    - Remove columns that have more than 500 Nans"
   ]
  },
  {
   "cell_type": "code",
   "execution_count": 195,
   "metadata": {},
   "outputs": [],
   "source": [
    "import pandas as pd\n",
    "from sklearn.linear_model import LogisticRegression"
   ]
  },
  {
   "cell_type": "code",
   "execution_count": 246,
   "metadata": {},
   "outputs": [],
   "source": [
    "train=pd.read_csv('~/Desktop/Titanic/train.csv')"
   ]
  },
  {
   "cell_type": "markdown",
   "metadata": {},
   "source": [
    "### Check dataset"
   ]
  },
  {
   "cell_type": "code",
   "execution_count": 247,
   "metadata": {},
   "outputs": [
    {
     "data": {
      "text/html": [
       "<div>\n",
       "<table border=\"1\" class=\"dataframe\">\n",
       "  <thead>\n",
       "    <tr style=\"text-align: right;\">\n",
       "      <th></th>\n",
       "      <th>PassengerId</th>\n",
       "      <th>Survived</th>\n",
       "      <th>Pclass</th>\n",
       "      <th>Age</th>\n",
       "      <th>SibSp</th>\n",
       "      <th>Parch</th>\n",
       "      <th>Fare</th>\n",
       "    </tr>\n",
       "  </thead>\n",
       "  <tbody>\n",
       "    <tr>\n",
       "      <th>count</th>\n",
       "      <td>891.000000</td>\n",
       "      <td>891.000000</td>\n",
       "      <td>891.000000</td>\n",
       "      <td>714.000000</td>\n",
       "      <td>891.000000</td>\n",
       "      <td>891.000000</td>\n",
       "      <td>891.000000</td>\n",
       "    </tr>\n",
       "    <tr>\n",
       "      <th>mean</th>\n",
       "      <td>446.000000</td>\n",
       "      <td>0.383838</td>\n",
       "      <td>2.308642</td>\n",
       "      <td>29.699118</td>\n",
       "      <td>0.523008</td>\n",
       "      <td>0.381594</td>\n",
       "      <td>32.204208</td>\n",
       "    </tr>\n",
       "    <tr>\n",
       "      <th>std</th>\n",
       "      <td>257.353842</td>\n",
       "      <td>0.486592</td>\n",
       "      <td>0.836071</td>\n",
       "      <td>14.526497</td>\n",
       "      <td>1.102743</td>\n",
       "      <td>0.806057</td>\n",
       "      <td>49.693429</td>\n",
       "    </tr>\n",
       "    <tr>\n",
       "      <th>min</th>\n",
       "      <td>1.000000</td>\n",
       "      <td>0.000000</td>\n",
       "      <td>1.000000</td>\n",
       "      <td>0.420000</td>\n",
       "      <td>0.000000</td>\n",
       "      <td>0.000000</td>\n",
       "      <td>0.000000</td>\n",
       "    </tr>\n",
       "    <tr>\n",
       "      <th>25%</th>\n",
       "      <td>223.500000</td>\n",
       "      <td>0.000000</td>\n",
       "      <td>2.000000</td>\n",
       "      <td>20.125000</td>\n",
       "      <td>0.000000</td>\n",
       "      <td>0.000000</td>\n",
       "      <td>7.910400</td>\n",
       "    </tr>\n",
       "    <tr>\n",
       "      <th>50%</th>\n",
       "      <td>446.000000</td>\n",
       "      <td>0.000000</td>\n",
       "      <td>3.000000</td>\n",
       "      <td>28.000000</td>\n",
       "      <td>0.000000</td>\n",
       "      <td>0.000000</td>\n",
       "      <td>14.454200</td>\n",
       "    </tr>\n",
       "    <tr>\n",
       "      <th>75%</th>\n",
       "      <td>668.500000</td>\n",
       "      <td>1.000000</td>\n",
       "      <td>3.000000</td>\n",
       "      <td>38.000000</td>\n",
       "      <td>1.000000</td>\n",
       "      <td>0.000000</td>\n",
       "      <td>31.000000</td>\n",
       "    </tr>\n",
       "    <tr>\n",
       "      <th>max</th>\n",
       "      <td>891.000000</td>\n",
       "      <td>1.000000</td>\n",
       "      <td>3.000000</td>\n",
       "      <td>80.000000</td>\n",
       "      <td>8.000000</td>\n",
       "      <td>6.000000</td>\n",
       "      <td>512.329200</td>\n",
       "    </tr>\n",
       "  </tbody>\n",
       "</table>\n",
       "</div>"
      ],
      "text/plain": [
       "       PassengerId    Survived      Pclass         Age       SibSp  \\\n",
       "count   891.000000  891.000000  891.000000  714.000000  891.000000   \n",
       "mean    446.000000    0.383838    2.308642   29.699118    0.523008   \n",
       "std     257.353842    0.486592    0.836071   14.526497    1.102743   \n",
       "min       1.000000    0.000000    1.000000    0.420000    0.000000   \n",
       "25%     223.500000    0.000000    2.000000   20.125000    0.000000   \n",
       "50%     446.000000    0.000000    3.000000   28.000000    0.000000   \n",
       "75%     668.500000    1.000000    3.000000   38.000000    1.000000   \n",
       "max     891.000000    1.000000    3.000000   80.000000    8.000000   \n",
       "\n",
       "            Parch        Fare  \n",
       "count  891.000000  891.000000  \n",
       "mean     0.381594   32.204208  \n",
       "std      0.806057   49.693429  \n",
       "min      0.000000    0.000000  \n",
       "25%      0.000000    7.910400  \n",
       "50%      0.000000   14.454200  \n",
       "75%      0.000000   31.000000  \n",
       "max      6.000000  512.329200  "
      ]
     },
     "execution_count": 247,
     "metadata": {},
     "output_type": "execute_result"
    }
   ],
   "source": [
    "train.describe()"
   ]
  },
  {
   "cell_type": "code",
   "execution_count": 248,
   "metadata": {},
   "outputs": [
    {
     "data": {
      "text/plain": [
       "PassengerId      int64\n",
       "Survived         int64\n",
       "Pclass           int64\n",
       "Name            object\n",
       "Sex             object\n",
       "Age            float64\n",
       "SibSp            int64\n",
       "Parch            int64\n",
       "Ticket          object\n",
       "Fare           float64\n",
       "Cabin           object\n",
       "Embarked        object\n",
       "dtype: object"
      ]
     },
     "execution_count": 248,
     "metadata": {},
     "output_type": "execute_result"
    }
   ],
   "source": [
    "train.dtypes"
   ]
  },
  {
   "cell_type": "code",
   "execution_count": 249,
   "metadata": {
    "collapsed": true
   },
   "outputs": [],
   "source": [
    "categorical=train.select_dtypes(include=['object'])"
   ]
  },
  {
   "cell_type": "code",
   "execution_count": 250,
   "metadata": {},
   "outputs": [
    {
     "data": {
      "text/html": [
       "<div>\n",
       "<table border=\"1\" class=\"dataframe\">\n",
       "  <thead>\n",
       "    <tr style=\"text-align: right;\">\n",
       "      <th></th>\n",
       "      <th>Name</th>\n",
       "      <th>Sex</th>\n",
       "      <th>Ticket</th>\n",
       "      <th>Cabin</th>\n",
       "      <th>Embarked</th>\n",
       "    </tr>\n",
       "  </thead>\n",
       "  <tbody>\n",
       "    <tr>\n",
       "      <th>count</th>\n",
       "      <td>891</td>\n",
       "      <td>891</td>\n",
       "      <td>891</td>\n",
       "      <td>204</td>\n",
       "      <td>889</td>\n",
       "    </tr>\n",
       "    <tr>\n",
       "      <th>unique</th>\n",
       "      <td>891</td>\n",
       "      <td>2</td>\n",
       "      <td>681</td>\n",
       "      <td>147</td>\n",
       "      <td>3</td>\n",
       "    </tr>\n",
       "    <tr>\n",
       "      <th>top</th>\n",
       "      <td>Coleff, Mr. Satio</td>\n",
       "      <td>male</td>\n",
       "      <td>347082</td>\n",
       "      <td>B96 B98</td>\n",
       "      <td>S</td>\n",
       "    </tr>\n",
       "    <tr>\n",
       "      <th>freq</th>\n",
       "      <td>1</td>\n",
       "      <td>577</td>\n",
       "      <td>7</td>\n",
       "      <td>4</td>\n",
       "      <td>644</td>\n",
       "    </tr>\n",
       "  </tbody>\n",
       "</table>\n",
       "</div>"
      ],
      "text/plain": [
       "                     Name   Sex  Ticket    Cabin Embarked\n",
       "count                 891   891     891      204      889\n",
       "unique                891     2     681      147        3\n",
       "top     Coleff, Mr. Satio  male  347082  B96 B98        S\n",
       "freq                    1   577       7        4      644"
      ]
     },
     "execution_count": 250,
     "metadata": {},
     "output_type": "execute_result"
    }
   ],
   "source": [
    "categorical.describe()"
   ]
  },
  {
   "cell_type": "code",
   "execution_count": 253,
   "metadata": {},
   "outputs": [
    {
     "data": {
      "text/plain": [
       "PassengerId      0\n",
       "Survived         0\n",
       "Pclass           0\n",
       "Age            177\n",
       "SibSp            0\n",
       "Parch            0\n",
       "Fare             0\n",
       "dtype: int64"
      ]
     },
     "execution_count": 253,
     "metadata": {},
     "output_type": "execute_result"
    }
   ],
   "source": [
    "numerical.isnull().sum(axis=0)"
   ]
  },
  {
   "cell_type": "code",
   "execution_count": 251,
   "metadata": {
    "collapsed": true
   },
   "outputs": [],
   "source": [
    "numerical=train.select_dtypes(exclude=['object'])"
   ]
  },
  {
   "cell_type": "code",
   "execution_count": 254,
   "metadata": {
    "collapsed": true
   },
   "outputs": [],
   "source": [
    "numerical_withoutNan=numerical.dropna(how='any', subset=['Age'])"
   ]
  },
  {
   "cell_type": "code",
   "execution_count": 255,
   "metadata": {},
   "outputs": [
    {
     "data": {
      "text/plain": [
       "PassengerId    0\n",
       "Survived       0\n",
       "Pclass         0\n",
       "Age            0\n",
       "SibSp          0\n",
       "Parch          0\n",
       "Fare           0\n",
       "dtype: int64"
      ]
     },
     "execution_count": 255,
     "metadata": {},
     "output_type": "execute_result"
    }
   ],
   "source": [
    "numerical_withoutNan.isnull().sum(axis=0)"
   ]
  },
  {
   "cell_type": "code",
   "execution_count": 258,
   "metadata": {},
   "outputs": [],
   "source": [
    "X=numerical_withoutNan.drop(['PassengerId', 'Survived'], axis=1)\n",
    "# train=train.loc[:, train.columns != 'Cabin'] This can be alternative for one feature"
   ]
  },
  {
   "cell_type": "code",
   "execution_count": 261,
   "metadata": {
    "collapsed": true
   },
   "outputs": [],
   "source": [
    "y=numerical_withoutNan['Survived']"
   ]
  },
  {
   "cell_type": "markdown",
   "metadata": {},
   "source": [
    "### Initialize and fit model "
   ]
  },
  {
   "cell_type": "code",
   "execution_count": 265,
   "metadata": {},
   "outputs": [],
   "source": [
    "LR = LogisticRegression()"
   ]
  },
  {
   "cell_type": "code",
   "execution_count": 266,
   "metadata": {
    "collapsed": true
   },
   "outputs": [],
   "source": [
    "lr_model=LR.fit(X,y)"
   ]
  },
  {
   "cell_type": "code",
   "execution_count": 267,
   "metadata": {},
   "outputs": [
    {
     "data": {
      "text/plain": [
       "LogisticRegression(C=1.0, class_weight=None, dual=False, fit_intercept=True,\n",
       "          intercept_scaling=1, max_iter=100, multi_class='ovr', n_jobs=1,\n",
       "          penalty='l2', random_state=None, solver='liblinear', tol=0.0001,\n",
       "          verbose=0, warm_start=False)"
      ]
     },
     "execution_count": 267,
     "metadata": {},
     "output_type": "execute_result"
    }
   ],
   "source": [
    "lr_model"
   ]
  },
  {
   "cell_type": "code",
   "execution_count": 268,
   "metadata": {},
   "outputs": [
    {
     "data": {
      "text/plain": [
       "array([[-0.95904749, -0.03717529, -0.26650099,  0.22893993,  0.00530298]])"
      ]
     },
     "execution_count": 268,
     "metadata": {},
     "output_type": "execute_result"
    }
   ],
   "source": [
    "lr_model.coef_"
   ]
  },
  {
   "cell_type": "code",
   "execution_count": 269,
   "metadata": {},
   "outputs": [
    {
     "data": {
      "text/plain": [
       "Index(['Pclass', 'Age', 'SibSp', 'Parch', 'Fare'], dtype='object')"
      ]
     },
     "execution_count": 269,
     "metadata": {},
     "output_type": "execute_result"
    }
   ],
   "source": [
    "X.columns"
   ]
  },
  {
   "cell_type": "markdown",
   "metadata": {},
   "source": [
    "### Read test data"
   ]
  },
  {
   "cell_type": "markdown",
   "metadata": {},
   "source": [
    "test = pd.read_csv('~/Desktop/Titanic/test.csv')"
   ]
  },
  {
   "cell_type": "markdown",
   "metadata": {},
   "source": [
    "#### We can see that there is no label (Survived)"
   ]
  },
  {
   "cell_type": "code",
   "execution_count": 319,
   "metadata": {},
   "outputs": [
    {
     "data": {
      "text/plain": [
       "PassengerId      int64\n",
       "Pclass           int64\n",
       "Name            object\n",
       "Sex             object\n",
       "Age            float64\n",
       "SibSp            int64\n",
       "Parch            int64\n",
       "Ticket          object\n",
       "Fare           float64\n",
       "Cabin           object\n",
       "Embarked        object\n",
       "dtype: object"
      ]
     },
     "execution_count": 319,
     "metadata": {},
     "output_type": "execute_result"
    }
   ],
   "source": [
    "test.dtypes"
   ]
  },
  {
   "cell_type": "markdown",
   "metadata": {},
   "source": [
    "#### There are Missing values in test, but also all the attributes (not only ones that are used for modelling)"
   ]
  },
  {
   "cell_type": "code",
   "execution_count": 320,
   "metadata": {},
   "outputs": [
    {
     "data": {
      "text/plain": [
       "PassengerId      0\n",
       "Pclass           0\n",
       "Name             0\n",
       "Sex              0\n",
       "Age             86\n",
       "SibSp            0\n",
       "Parch            0\n",
       "Ticket           0\n",
       "Fare             1\n",
       "Cabin          327\n",
       "Embarked         0\n",
       "dtype: int64"
      ]
     },
     "execution_count": 320,
     "metadata": {},
     "output_type": "execute_result"
    }
   ],
   "source": [
    "test.isnull().sum()"
   ]
  },
  {
   "cell_type": "code",
   "execution_count": 321,
   "metadata": {},
   "outputs": [
    {
     "ename": "ValueError",
     "evalue": "could not convert string to float: 'C'",
     "output_type": "error",
     "traceback": [
      "\u001b[0;31m---------------------------------------------------------------------------\u001b[0m",
      "\u001b[0;31mValueError\u001b[0m                                Traceback (most recent call last)",
      "\u001b[0;32m<ipython-input-321-dd3b509a0e19>\u001b[0m in \u001b[0;36m<module>\u001b[0;34m()\u001b[0m\n\u001b[0;32m----> 1\u001b[0;31m \u001b[0mlr_model\u001b[0m\u001b[0;34m.\u001b[0m\u001b[0mpredict\u001b[0m\u001b[0;34m(\u001b[0m\u001b[0mtest\u001b[0m\u001b[0;34m)\u001b[0m\u001b[0;34m\u001b[0m\u001b[0m\n\u001b[0m",
      "\u001b[0;32m/Users/user/anaconda/lib/python3.5/site-packages/sklearn/linear_model/base.py\u001b[0m in \u001b[0;36mpredict\u001b[0;34m(self, X)\u001b[0m\n\u001b[1;32m    322\u001b[0m             \u001b[0mPredicted\u001b[0m \u001b[0;32mclass\u001b[0m \u001b[0mlabel\u001b[0m \u001b[0mper\u001b[0m \u001b[0msample\u001b[0m\u001b[0;34m.\u001b[0m\u001b[0;34m\u001b[0m\u001b[0m\n\u001b[1;32m    323\u001b[0m         \"\"\"\n\u001b[0;32m--> 324\u001b[0;31m         \u001b[0mscores\u001b[0m \u001b[0;34m=\u001b[0m \u001b[0mself\u001b[0m\u001b[0;34m.\u001b[0m\u001b[0mdecision_function\u001b[0m\u001b[0;34m(\u001b[0m\u001b[0mX\u001b[0m\u001b[0;34m)\u001b[0m\u001b[0;34m\u001b[0m\u001b[0m\n\u001b[0m\u001b[1;32m    325\u001b[0m         \u001b[0;32mif\u001b[0m \u001b[0mlen\u001b[0m\u001b[0;34m(\u001b[0m\u001b[0mscores\u001b[0m\u001b[0;34m.\u001b[0m\u001b[0mshape\u001b[0m\u001b[0;34m)\u001b[0m \u001b[0;34m==\u001b[0m \u001b[0;36m1\u001b[0m\u001b[0;34m:\u001b[0m\u001b[0;34m\u001b[0m\u001b[0m\n\u001b[1;32m    326\u001b[0m             \u001b[0mindices\u001b[0m \u001b[0;34m=\u001b[0m \u001b[0;34m(\u001b[0m\u001b[0mscores\u001b[0m \u001b[0;34m>\u001b[0m \u001b[0;36m0\u001b[0m\u001b[0;34m)\u001b[0m\u001b[0;34m.\u001b[0m\u001b[0mastype\u001b[0m\u001b[0;34m(\u001b[0m\u001b[0mnp\u001b[0m\u001b[0;34m.\u001b[0m\u001b[0mint\u001b[0m\u001b[0;34m)\u001b[0m\u001b[0;34m\u001b[0m\u001b[0m\n",
      "\u001b[0;32m/Users/user/anaconda/lib/python3.5/site-packages/sklearn/linear_model/base.py\u001b[0m in \u001b[0;36mdecision_function\u001b[0;34m(self, X)\u001b[0m\n\u001b[1;32m    298\u001b[0m                                  \"yet\" % {'name': type(self).__name__})\n\u001b[1;32m    299\u001b[0m \u001b[0;34m\u001b[0m\u001b[0m\n\u001b[0;32m--> 300\u001b[0;31m         \u001b[0mX\u001b[0m \u001b[0;34m=\u001b[0m \u001b[0mcheck_array\u001b[0m\u001b[0;34m(\u001b[0m\u001b[0mX\u001b[0m\u001b[0;34m,\u001b[0m \u001b[0maccept_sparse\u001b[0m\u001b[0;34m=\u001b[0m\u001b[0;34m'csr'\u001b[0m\u001b[0;34m)\u001b[0m\u001b[0;34m\u001b[0m\u001b[0m\n\u001b[0m\u001b[1;32m    301\u001b[0m \u001b[0;34m\u001b[0m\u001b[0m\n\u001b[1;32m    302\u001b[0m         \u001b[0mn_features\u001b[0m \u001b[0;34m=\u001b[0m \u001b[0mself\u001b[0m\u001b[0;34m.\u001b[0m\u001b[0mcoef_\u001b[0m\u001b[0;34m.\u001b[0m\u001b[0mshape\u001b[0m\u001b[0;34m[\u001b[0m\u001b[0;36m1\u001b[0m\u001b[0;34m]\u001b[0m\u001b[0;34m\u001b[0m\u001b[0m\n",
      "\u001b[0;32m/Users/user/anaconda/lib/python3.5/site-packages/sklearn/utils/validation.py\u001b[0m in \u001b[0;36mcheck_array\u001b[0;34m(array, accept_sparse, dtype, order, copy, force_all_finite, ensure_2d, allow_nd, ensure_min_samples, ensure_min_features, warn_on_dtype, estimator)\u001b[0m\n\u001b[1;32m    415\u001b[0m         \u001b[0;31m# make sure we actually converted to numeric:\u001b[0m\u001b[0;34m\u001b[0m\u001b[0;34m\u001b[0m\u001b[0m\n\u001b[1;32m    416\u001b[0m         \u001b[0;32mif\u001b[0m \u001b[0mdtype_numeric\u001b[0m \u001b[0;32mand\u001b[0m \u001b[0marray\u001b[0m\u001b[0;34m.\u001b[0m\u001b[0mdtype\u001b[0m\u001b[0;34m.\u001b[0m\u001b[0mkind\u001b[0m \u001b[0;34m==\u001b[0m \u001b[0;34m\"O\"\u001b[0m\u001b[0;34m:\u001b[0m\u001b[0;34m\u001b[0m\u001b[0m\n\u001b[0;32m--> 417\u001b[0;31m             \u001b[0marray\u001b[0m \u001b[0;34m=\u001b[0m \u001b[0marray\u001b[0m\u001b[0;34m.\u001b[0m\u001b[0mastype\u001b[0m\u001b[0;34m(\u001b[0m\u001b[0mnp\u001b[0m\u001b[0;34m.\u001b[0m\u001b[0mfloat64\u001b[0m\u001b[0;34m)\u001b[0m\u001b[0;34m\u001b[0m\u001b[0m\n\u001b[0m\u001b[1;32m    418\u001b[0m         \u001b[0;32mif\u001b[0m \u001b[0;32mnot\u001b[0m \u001b[0mallow_nd\u001b[0m \u001b[0;32mand\u001b[0m \u001b[0marray\u001b[0m\u001b[0;34m.\u001b[0m\u001b[0mndim\u001b[0m \u001b[0;34m>=\u001b[0m \u001b[0;36m3\u001b[0m\u001b[0;34m:\u001b[0m\u001b[0;34m\u001b[0m\u001b[0m\n\u001b[1;32m    419\u001b[0m             raise ValueError(\"Found array with dim %d. %s expected <= 2.\"\n",
      "\u001b[0;31mValueError\u001b[0m: could not convert string to float: 'C'"
     ]
    }
   ],
   "source": [
    "lr_model.predict(test)"
   ]
  },
  {
   "cell_type": "code",
   "execution_count": 322,
   "metadata": {},
   "outputs": [],
   "source": [
    "test_1=test[['Pclass', 'Age', 'SibSp', 'Parch', 'Fare']]"
   ]
  },
  {
   "cell_type": "code",
   "execution_count": 323,
   "metadata": {},
   "outputs": [
    {
     "data": {
      "text/plain": [
       "Pclass     0\n",
       "Age       86\n",
       "SibSp      0\n",
       "Parch      0\n",
       "Fare       1\n",
       "dtype: int64"
      ]
     },
     "execution_count": 323,
     "metadata": {},
     "output_type": "execute_result"
    }
   ],
   "source": [
    "test_1.isnull().sum()"
   ]
  },
  {
   "cell_type": "code",
   "execution_count": 324,
   "metadata": {},
   "outputs": [
    {
     "data": {
      "text/plain": [
       "418"
      ]
     },
     "execution_count": 324,
     "metadata": {},
     "output_type": "execute_result"
    }
   ],
   "source": [
    "test_1.shape[0]"
   ]
  },
  {
   "cell_type": "code",
   "execution_count": 325,
   "metadata": {},
   "outputs": [
    {
     "data": {
      "text/plain": [
       "nan"
      ]
     },
     "execution_count": 325,
     "metadata": {},
     "output_type": "execute_result"
    }
   ],
   "source": [
    "np.average(test_1['Age'])"
   ]
  },
  {
   "cell_type": "code",
   "execution_count": 326,
   "metadata": {},
   "outputs": [],
   "source": [
    "avg_age=np.average(test_1['Age'].dropna())"
   ]
  },
  {
   "cell_type": "code",
   "execution_count": 315,
   "metadata": {},
   "outputs": [
    {
     "name": "stderr",
     "output_type": "stream",
     "text": [
      "/Users/user/anaconda/lib/python3.5/site-packages/pandas/core/generic.py:2862: SettingWithCopyWarning: \n",
      "A value is trying to be set on a copy of a slice from a DataFrame\n",
      "\n",
      "See the caveats in the documentation: http://pandas.pydata.org/pandas-docs/stable/indexing.html#indexing-view-versus-copy\n",
      "  self._update_inplace(new_data)\n"
     ]
    }
   ],
   "source": [
    "test_1.Age.fillna(avg_age, inplace=True)"
   ]
  },
  {
   "cell_type": "code",
   "execution_count": 312,
   "metadata": {},
   "outputs": [
    {
     "name": "stderr",
     "output_type": "stream",
     "text": [
      "/Users/user/anaconda/lib/python3.5/site-packages/ipykernel/__main__.py:1: SettingWithCopyWarning: \n",
      "A value is trying to be set on a copy of a slice from a DataFrame.\n",
      "Try using .loc[row_indexer,col_indexer] = value instead\n",
      "\n",
      "See the caveats in the documentation: http://pandas.pydata.org/pandas-docs/stable/indexing.html#indexing-view-versus-copy\n",
      "  if __name__ == '__main__':\n"
     ]
    }
   ],
   "source": [
    "test_1['Age']=filled"
   ]
  },
  {
   "cell_type": "code",
   "execution_count": 328,
   "metadata": {},
   "outputs": [
    {
     "name": "stderr",
     "output_type": "stream",
     "text": [
      "/Users/user/anaconda/lib/python3.5/site-packages/pandas/core/generic.py:3117: SettingWithCopyWarning: \n",
      "A value is trying to be set on a copy of a slice from a DataFrame\n",
      "\n",
      "See the caveats in the documentation: http://pandas.pydata.org/pandas-docs/stable/indexing.html#indexing-view-versus-copy\n",
      "  self._update_inplace(new_data)\n"
     ]
    }
   ],
   "source": [
    "test_1.Age.replace(np.NaN, avg_age, inplace=True)"
   ]
  },
  {
   "cell_type": "code",
   "execution_count": 329,
   "metadata": {},
   "outputs": [
    {
     "data": {
      "text/plain": [
       "Pclass    0\n",
       "Age       0\n",
       "SibSp     0\n",
       "Parch     0\n",
       "Fare      1\n",
       "dtype: int64"
      ]
     },
     "execution_count": 329,
     "metadata": {},
     "output_type": "execute_result"
    }
   ],
   "source": [
    "test_1.isnull().sum()"
   ]
  },
  {
   "cell_type": "code",
   "execution_count": 333,
   "metadata": {},
   "outputs": [
    {
     "name": "stderr",
     "output_type": "stream",
     "text": [
      "/Users/user/anaconda/lib/python3.5/site-packages/pandas/core/series.py:2546: SettingWithCopyWarning: \n",
      "A value is trying to be set on a copy of a slice from a DataFrame\n",
      "\n",
      "See the caveats in the documentation: http://pandas.pydata.org/pandas-docs/stable/indexing.html#indexing-view-versus-copy\n",
      "  self._update_inplace(result)\n"
     ]
    }
   ],
   "source": [
    "test_1.Fare.dropna(axis=0, inplace=True)"
   ]
  },
  {
   "cell_type": "code",
   "execution_count": 332,
   "metadata": {},
   "outputs": [
    {
     "data": {
      "text/plain": [
       "Pclass    0\n",
       "Age       0\n",
       "SibSp     0\n",
       "Parch     0\n",
       "Fare      0\n",
       "dtype: int64"
      ]
     },
     "execution_count": 332,
     "metadata": {},
     "output_type": "execute_result"
    }
   ],
   "source": [
    "test_1.isnull().sum()"
   ]
  },
  {
   "cell_type": "code",
   "execution_count": null,
   "metadata": {
    "collapsed": true
   },
   "outputs": [],
   "source": []
  }
 ],
 "metadata": {
  "kernelspec": {
   "display_name": "Python 3",
   "language": "python",
   "name": "python3"
  },
  "language_info": {
   "codemirror_mode": {
    "name": "ipython",
    "version": 3
   },
   "file_extension": ".py",
   "mimetype": "text/x-python",
   "name": "python",
   "nbconvert_exporter": "python",
   "pygments_lexer": "ipython3",
   "version": "3.6.5"
  }
 },
 "nbformat": 4,
 "nbformat_minor": 1
}

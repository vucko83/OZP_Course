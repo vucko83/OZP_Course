{
 "cells": [
  {
   "cell_type": "markdown",
   "metadata": {},
   "source": [
    "# Python Language\n",
    "\n",
    "Programing language that is:\n",
    "    - Interpreted\n",
    "    - Object oriented\n",
    "    - Used for rapid development and scripting\n",
    "    - Free\n",
    "\n",
    "More about python: https://www.python.org\n",
    "Difference with other programming languages: https://www.python.org/doc/essays/comparisons/"
   ]
  },
  {
   "cell_type": "markdown",
   "metadata": {},
   "source": [
    "## Resources for learning\n",
    " - Course notebooks https://github.com/vucko83/OZP_Course\n",
    " - !!!! Python Documentation https://docs.python.org/3/\n",
    " - MOOC\n",
    "         -Edx\n",
    "         -Coursera\n",
    "         -Cognitive class https://cognitiveclass.ai/courses/\n",
    "         -Udemy\n",
    "         -Youtube\n",
    "         -Others..."
   ]
  },
  {
   "cell_type": "markdown",
   "metadata": {},
   "source": [
    "## Environment Setup\n",
    "\n",
    "    - Anaconda\n",
    "    - Jupyter notebooks\n",
    "    - Python 2, Python 3\n",
    "    - Examples on Kaggle\n",
    "    - Spider, Pycharm\n"
   ]
  },
  {
   "cell_type": "markdown",
   "metadata": {
    "collapsed": true
   },
   "source": [
    "### Anaconda installation\n",
    "\n",
    "- Download Anaconda Installer  for Python 3.6 for your OS type from the following link\n",
    "    - Windows: https://www.anaconda.com/download/#windows\n",
    "    - MacOS: https://www.anaconda.com/download/#macos\n",
    "    - Linux: https://www.anaconda.com/download/#linux\n",
    "\n",
    "- Start Anaconda Navigator or execute jupyter notebook in cmd prompt or terminal\n",
    "- Jupyter notebook should be started on localhost:8888\n"
   ]
  },
  {
   "cell_type": "markdown",
   "metadata": {},
   "source": [
    "### Jupyter notebooks\n",
    " - interactive results\n",
    " - .ipynb file (has to opened through notebook)\n",
    " - may be saved to .py, html, pdf etc.\n",
    " - New - can run different languages (R, Python, Scala etc)\n",
    " - Allows Markdown creation (notes, titles etc)\n",
    " - Cmd (Ctrl) + Shift + P - keyboars dhortcuts\n",
    " - Tab for autocomplete (whivh methods do I have)\n",
    " - Shift + Tab - Documentation string\n",
    " - Useful tips: https://www.dataquest.io/blog/jupyter-notebook-tips-tricks-shortcuts/"
   ]
  },
  {
   "cell_type": "markdown",
   "metadata": {},
   "source": [
    "# Markdown titles\n",
    "\n",
    "Formulaes with Latex\n",
    "\n",
    "\n",
    "$$c = \\sqrt{a^2 + b^2}$$\n",
    "\n",
    "working with IPython Display: http://nbviewer.jupyter.org/github/ipython/ipython/blob/2.x/examples/Notebook/Display%20System.ipynb#LaTeX"
   ]
  },
  {
   "cell_type": "code",
   "execution_count": 1,
   "metadata": {
    "collapsed": false
   },
   "outputs": [
    {
     "data": {
      "text/plain": [
       "sys.version_info(major=3, minor=6, micro=5, releaselevel='final', serial=0)"
      ]
     },
     "execution_count": 1,
     "metadata": {},
     "output_type": "execute_result"
    }
   ],
   "source": [
    "# If you are not sure which Python version Jupyter uses\n",
    "import sys\n",
    "sys.version\n",
    "sys.version_info"
   ]
  },
  {
   "cell_type": "code",
   "execution_count": 2,
   "metadata": {
    "collapsed": false
   },
   "outputs": [
    {
     "name": "stdout",
     "output_type": "stream",
     "text": [
      "Requirement already satisfied: pydataset in /home/vucko83/anaconda3/lib/python3.6/site-packages\r\n",
      "Requirement already satisfied: pandas in /home/vucko83/anaconda3/lib/python3.6/site-packages (from pydataset)\r\n",
      "Requirement already satisfied: python-dateutil>=2 in /home/vucko83/anaconda3/lib/python3.6/site-packages (from pandas->pydataset)\r\n",
      "Requirement already satisfied: pytz>=2011k in /home/vucko83/anaconda3/lib/python3.6/site-packages (from pandas->pydataset)\r\n",
      "Requirement already satisfied: numpy>=1.9.0 in /home/vucko83/anaconda3/lib/python3.6/site-packages (from pandas->pydataset)\r\n",
      "Requirement already satisfied: six>=1.5 in /home/vucko83/anaconda3/lib/python3.6/site-packages (from python-dateutil>=2->pandas->pydataset)\r\n"
     ]
    }
   ],
   "source": [
    "# If you want to install external pypi packege use Python installer (pip)\n",
    "!pip install pydataset\n",
    "# if installed through terminal do not use !pip, instead just pip"
   ]
  },
  {
   "cell_type": "code",
   "execution_count": 6,
   "metadata": {
    "collapsed": true
   },
   "outputs": [],
   "source": [
    "?str.replace # Shift + Enter to see docstring"
   ]
  },
  {
   "cell_type": "code",
   "execution_count": null,
   "metadata": {
    "collapsed": true
   },
   "outputs": [],
   "source": [
    "### Autocomplete works in Jupyter notebooks"
   ]
  },
  {
   "cell_type": "code",
   "execution_count": 7,
   "metadata": {
    "collapsed": false
   },
   "outputs": [
    {
     "data": {
      "text/plain": [
       "str"
      ]
     },
     "execution_count": 7,
     "metadata": {},
     "output_type": "execute_result"
    }
   ],
   "source": [
    "str."
   ]
  },
  {
   "cell_type": "markdown",
   "metadata": {},
   "source": [
    "# Packages used in this course"
   ]
  },
  {
   "cell_type": "code",
   "execution_count": 8,
   "metadata": {
    "collapsed": false
   },
   "outputs": [
    {
     "data": {
      "text/plain": [
       "'\\nLibraries\\n  Pandas, Data structures and tools \\n  Numpy,Arrays and Matrices\\n  Scipy - Integrals, Differentials, optimization, statistics\\n  Installation - pip\\n'"
      ]
     },
     "execution_count": 8,
     "metadata": {},
     "output_type": "execute_result"
    }
   ],
   "source": [
    "'''\n",
    "Libraries\n",
    "  Pandas, Data structures and tools \n",
    "  Numpy,Arrays and Matrices\n",
    "  Scipy - Integrals, Differentials, optimization, statistics\n",
    "  Installation - pip\n",
    "'''"
   ]
  },
  {
   "cell_type": "code",
   "execution_count": 9,
   "metadata": {
    "collapsed": false
   },
   "outputs": [
    {
     "data": {
      "text/plain": [
       "'\\nData Vizualization\\n\\nMatplotlib\\nSeaborn (based on matplotlib)\\n'"
      ]
     },
     "execution_count": 9,
     "metadata": {},
     "output_type": "execute_result"
    }
   ],
   "source": [
    "'''\n",
    "Data Vizualization\n",
    "\n",
    "Matplotlib\n",
    "Seaborn (based on matplotlib)\n",
    "'''"
   ]
  },
  {
   "cell_type": "code",
   "execution_count": 10,
   "metadata": {
    "collapsed": false
   },
   "outputs": [
    {
     "data": {
      "text/plain": [
       "'\\nAlgorithmic\\n\\nScikit-learn - machine learning, based on numpy, scipy, matplotlib\\nStatsModel - Explore data, estimate statistical models, statistical tests\\n\\n\\n'"
      ]
     },
     "execution_count": 10,
     "metadata": {},
     "output_type": "execute_result"
    }
   ],
   "source": [
    "'''\n",
    "Algorithmic\n",
    "\n",
    "Scikit-learn - machine learning, based on numpy, scipy, matplotlib\n",
    "StatsModel - Explore data, estimate statistical models, statistical tests\n",
    "\n",
    "\n",
    "'''"
   ]
  },
  {
   "cell_type": "code",
   "execution_count": null,
   "metadata": {
    "collapsed": true
   },
   "outputs": [],
   "source": []
  }
 ],
 "metadata": {
  "kernelspec": {
   "display_name": "Python 3",
   "language": "python",
   "name": "python3"
  },
  "language_info": {
   "codemirror_mode": {
    "name": "ipython",
    "version": 3
   },
   "file_extension": ".py",
   "mimetype": "text/x-python",
   "name": "python",
   "nbconvert_exporter": "python",
   "pygments_lexer": "ipython3",
   "version": "3.5.4"
  }
 },
 "nbformat": 4,
 "nbformat_minor": 1
}
